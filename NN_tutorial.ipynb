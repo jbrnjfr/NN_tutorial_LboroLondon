{
 "cells": [
  {
   "cell_type": "markdown",
   "metadata": {
    "id": "Av0OXkdNa2Jv"
   },
   "source": [
    "# Tutorial,  Neural Network to predict house prices "
   ]
  },
  {
   "cell_type": "markdown",
   "metadata": {
    "id": "STv5TlVca2J3"
   },
   "source": [
    "We will be exploring how to use a package called Keras to build our first neural network to predict if house prices are above or below median value. In particular, we will go through the full Deep Learning pipeline, from:\n",
    "\n",
    "* Exploring and Processing the Data\n",
    "* Building and Training our Neural Network\n",
    "* Visualizing Loss and Accuracy\n",
    "* Adding Regularization to our Neural Network"
   ]
  },
  {
   "cell_type": "markdown",
   "metadata": {
    "id": "CjMgaDOda2J4"
   },
   "source": [
    "# Python libraries:"
   ]
  },
  {
   "cell_type": "markdown",
   "metadata": {
    "id": "kmV9Wv87a2J4"
   },
   "source": [
    "- Keras \n",
    "- tensorflow \n",
    "- pandas\n",
    "- scikit-learn \n",
    "- matplotlib\n",
    "\n",
    "If you need help installing the package, follow the instructions in the link \n",
    "https://medium.com/intuitive-deep-learning/getting-started-with-python-for-deep-learning-and-data-science-9ca785560bbc "
   ]
  },
  {
   "cell_type": "markdown",
   "metadata": {
    "id": "i1aijuFAa2J5"
   },
   "source": [
    "# Dataset "
   ]
  },
  {
   "cell_type": "markdown",
   "metadata": {
    "id": "A2fUqi7ha2J6"
   },
   "source": [
    "The dataset we will use today is adapted from Zillow’s Home Value Prediction Kaggle competition data\n",
    "this data is reduced to by Joseph Lee  and we are using the reduced version of this data"
   ]
  },
  {
   "cell_type": "markdown",
   "metadata": {
    "id": "NaEU3pwea2J6"
   },
   "source": [
    "\n",
    "use the following link to download all the dataset you need for the Feadforward NN and CNN tutorials https://drive.google.com/open?id=1WyVx96kIL72mDTsLJ-U5wAxDt0iBAX5O  \n",
    "\n"
   ]
  },
  {
   "cell_type": "markdown",
   "metadata": {
    "id": "O0EUNW-Aa2J6"
   },
   "source": [
    "# Exploring the dataset "
   ]
  },
  {
   "cell_type": "markdown",
   "metadata": {
    "id": "HKpLkoIra2J7"
   },
   "source": [
    "Read in the CSV (comma separated values) file and convert them to arrays. Arrays are a data format that our algorithm can process.\n",
    "\n",
    "Split our dataset into the input features (which we call x) and the label (which we call y).\n",
    "\n",
    "Scale the data (we call this normalization) so that the input features have similar orders of magnitude.\n",
    "\n",
    "Split our dataset into the training set, the validation set and the test set."
   ]
  },
  {
   "cell_type": "code",
   "execution_count": 1,
   "metadata": {
    "id": "BhdwrzjJa2J7"
   },
   "outputs": [],
   "source": [
    "import pandas as pd"
   ]
  },
  {
   "cell_type": "code",
   "execution_count": 4,
   "metadata": {
    "id": "gIBYTc4ua2J8"
   },
   "outputs": [],
   "source": [
    "df = pd.read_csv('housepricedata.csv')\n",
    "\n",
    "#makesure you put the link to where you downloaded the housepricedata.csv file location above. you can find this file inside the deep neural network.  "
   ]
  },
  {
   "cell_type": "markdown",
   "metadata": {
    "id": "tRJV-s3Ca2J9"
   },
   "source": [
    "To see how the dataframe looks type df, which is the name of the parameter we saved above"
   ]
  },
  {
   "cell_type": "code",
   "execution_count": 5,
   "metadata": {
    "colab": {
     "base_uri": "https://localhost:8080/",
     "height": 419
    },
    "id": "2iPNPGfua2J9",
    "outputId": "f870fc04-6642-43d8-d0e5-7e4ac75e4157"
   },
   "outputs": [
    {
     "data": {
      "text/html": [
       "<div>\n",
       "<style scoped>\n",
       "    .dataframe tbody tr th:only-of-type {\n",
       "        vertical-align: middle;\n",
       "    }\n",
       "\n",
       "    .dataframe tbody tr th {\n",
       "        vertical-align: top;\n",
       "    }\n",
       "\n",
       "    .dataframe thead th {\n",
       "        text-align: right;\n",
       "    }\n",
       "</style>\n",
       "<table border=\"1\" class=\"dataframe\">\n",
       "  <thead>\n",
       "    <tr style=\"text-align: right;\">\n",
       "      <th></th>\n",
       "      <th>LotArea</th>\n",
       "      <th>OverallQual</th>\n",
       "      <th>OverallCond</th>\n",
       "      <th>TotalBsmtSF</th>\n",
       "      <th>FullBath</th>\n",
       "      <th>HalfBath</th>\n",
       "      <th>BedroomAbvGr</th>\n",
       "      <th>TotRmsAbvGrd</th>\n",
       "      <th>Fireplaces</th>\n",
       "      <th>GarageArea</th>\n",
       "      <th>AboveMedianPrice</th>\n",
       "    </tr>\n",
       "  </thead>\n",
       "  <tbody>\n",
       "    <tr>\n",
       "      <th>0</th>\n",
       "      <td>8450</td>\n",
       "      <td>7</td>\n",
       "      <td>5</td>\n",
       "      <td>856</td>\n",
       "      <td>2</td>\n",
       "      <td>1</td>\n",
       "      <td>3</td>\n",
       "      <td>8</td>\n",
       "      <td>0</td>\n",
       "      <td>548</td>\n",
       "      <td>1</td>\n",
       "    </tr>\n",
       "    <tr>\n",
       "      <th>1</th>\n",
       "      <td>9600</td>\n",
       "      <td>6</td>\n",
       "      <td>8</td>\n",
       "      <td>1262</td>\n",
       "      <td>2</td>\n",
       "      <td>0</td>\n",
       "      <td>3</td>\n",
       "      <td>6</td>\n",
       "      <td>1</td>\n",
       "      <td>460</td>\n",
       "      <td>1</td>\n",
       "    </tr>\n",
       "    <tr>\n",
       "      <th>2</th>\n",
       "      <td>11250</td>\n",
       "      <td>7</td>\n",
       "      <td>5</td>\n",
       "      <td>920</td>\n",
       "      <td>2</td>\n",
       "      <td>1</td>\n",
       "      <td>3</td>\n",
       "      <td>6</td>\n",
       "      <td>1</td>\n",
       "      <td>608</td>\n",
       "      <td>1</td>\n",
       "    </tr>\n",
       "    <tr>\n",
       "      <th>3</th>\n",
       "      <td>9550</td>\n",
       "      <td>7</td>\n",
       "      <td>5</td>\n",
       "      <td>756</td>\n",
       "      <td>1</td>\n",
       "      <td>0</td>\n",
       "      <td>3</td>\n",
       "      <td>7</td>\n",
       "      <td>1</td>\n",
       "      <td>642</td>\n",
       "      <td>0</td>\n",
       "    </tr>\n",
       "    <tr>\n",
       "      <th>4</th>\n",
       "      <td>14260</td>\n",
       "      <td>8</td>\n",
       "      <td>5</td>\n",
       "      <td>1145</td>\n",
       "      <td>2</td>\n",
       "      <td>1</td>\n",
       "      <td>4</td>\n",
       "      <td>9</td>\n",
       "      <td>1</td>\n",
       "      <td>836</td>\n",
       "      <td>1</td>\n",
       "    </tr>\n",
       "    <tr>\n",
       "      <th>...</th>\n",
       "      <td>...</td>\n",
       "      <td>...</td>\n",
       "      <td>...</td>\n",
       "      <td>...</td>\n",
       "      <td>...</td>\n",
       "      <td>...</td>\n",
       "      <td>...</td>\n",
       "      <td>...</td>\n",
       "      <td>...</td>\n",
       "      <td>...</td>\n",
       "      <td>...</td>\n",
       "    </tr>\n",
       "    <tr>\n",
       "      <th>1455</th>\n",
       "      <td>7917</td>\n",
       "      <td>6</td>\n",
       "      <td>5</td>\n",
       "      <td>953</td>\n",
       "      <td>2</td>\n",
       "      <td>1</td>\n",
       "      <td>3</td>\n",
       "      <td>7</td>\n",
       "      <td>1</td>\n",
       "      <td>460</td>\n",
       "      <td>1</td>\n",
       "    </tr>\n",
       "    <tr>\n",
       "      <th>1456</th>\n",
       "      <td>13175</td>\n",
       "      <td>6</td>\n",
       "      <td>6</td>\n",
       "      <td>1542</td>\n",
       "      <td>2</td>\n",
       "      <td>0</td>\n",
       "      <td>3</td>\n",
       "      <td>7</td>\n",
       "      <td>2</td>\n",
       "      <td>500</td>\n",
       "      <td>1</td>\n",
       "    </tr>\n",
       "    <tr>\n",
       "      <th>1457</th>\n",
       "      <td>9042</td>\n",
       "      <td>7</td>\n",
       "      <td>9</td>\n",
       "      <td>1152</td>\n",
       "      <td>2</td>\n",
       "      <td>0</td>\n",
       "      <td>4</td>\n",
       "      <td>9</td>\n",
       "      <td>2</td>\n",
       "      <td>252</td>\n",
       "      <td>1</td>\n",
       "    </tr>\n",
       "    <tr>\n",
       "      <th>1458</th>\n",
       "      <td>9717</td>\n",
       "      <td>5</td>\n",
       "      <td>6</td>\n",
       "      <td>1078</td>\n",
       "      <td>1</td>\n",
       "      <td>0</td>\n",
       "      <td>2</td>\n",
       "      <td>5</td>\n",
       "      <td>0</td>\n",
       "      <td>240</td>\n",
       "      <td>0</td>\n",
       "    </tr>\n",
       "    <tr>\n",
       "      <th>1459</th>\n",
       "      <td>9937</td>\n",
       "      <td>5</td>\n",
       "      <td>6</td>\n",
       "      <td>1256</td>\n",
       "      <td>1</td>\n",
       "      <td>1</td>\n",
       "      <td>3</td>\n",
       "      <td>6</td>\n",
       "      <td>0</td>\n",
       "      <td>276</td>\n",
       "      <td>0</td>\n",
       "    </tr>\n",
       "  </tbody>\n",
       "</table>\n",
       "<p>1460 rows × 11 columns</p>\n",
       "</div>"
      ],
      "text/plain": [
       "      LotArea  OverallQual  OverallCond  TotalBsmtSF  FullBath  HalfBath  \\\n",
       "0        8450            7            5          856         2         1   \n",
       "1        9600            6            8         1262         2         0   \n",
       "2       11250            7            5          920         2         1   \n",
       "3        9550            7            5          756         1         0   \n",
       "4       14260            8            5         1145         2         1   \n",
       "...       ...          ...          ...          ...       ...       ...   \n",
       "1455     7917            6            5          953         2         1   \n",
       "1456    13175            6            6         1542         2         0   \n",
       "1457     9042            7            9         1152         2         0   \n",
       "1458     9717            5            6         1078         1         0   \n",
       "1459     9937            5            6         1256         1         1   \n",
       "\n",
       "      BedroomAbvGr  TotRmsAbvGrd  Fireplaces  GarageArea  AboveMedianPrice  \n",
       "0                3             8           0         548                 1  \n",
       "1                3             6           1         460                 1  \n",
       "2                3             6           1         608                 1  \n",
       "3                3             7           1         642                 0  \n",
       "4                4             9           1         836                 1  \n",
       "...            ...           ...         ...         ...               ...  \n",
       "1455             3             7           1         460                 1  \n",
       "1456             3             7           2         500                 1  \n",
       "1457             4             9           2         252                 1  \n",
       "1458             2             5           0         240                 0  \n",
       "1459             3             6           0         276                 0  \n",
       "\n",
       "[1460 rows x 11 columns]"
      ]
     },
     "execution_count": 5,
     "metadata": {},
     "output_type": "execute_result"
    }
   ],
   "source": [
    "df"
   ]
  },
  {
   "cell_type": "markdown",
   "metadata": {
    "id": "2gj6SKIpa2J-"
   },
   "source": [
    "Here, you can explore the data a little. We have our input features in the first ten columns:\n",
    "\n",
    "* Lot Area (in sq ft)\n",
    "\n",
    "* Overall Quality (scale from 1 to 10)\n",
    "\n",
    "* Overall Condition (scale from 1 to 10)\n",
    "\n",
    "* Total Basement Area (in sq ft)\n",
    "\n",
    "* Number of Full Bathrooms\n",
    "\n",
    "* Number of Half Bathrooms\n",
    "\n",
    "* Number of Bedrooms above ground\n",
    "\n",
    "* Total Number of Rooms above ground\n",
    "\n",
    "* Number of Fireplaces\n",
    "\n",
    "* Garage Area (in sq ft)\n",
    "\n",
    "In our last column, we have the feature that we would like to predict:\n",
    "\n",
    "Is the house price above the median or not? (1 for yes and 0 for no)\n",
    "\n",
    "\n",
    "Now that we’ve seen what our data looks like, we want to convert it into arrays for our machine to process:"
   ]
  },
  {
   "cell_type": "code",
   "execution_count": 6,
   "metadata": {
    "id": "Zo3og6mxa2J_"
   },
   "outputs": [],
   "source": [
    "dataset = df.values"
   ]
  },
  {
   "cell_type": "markdown",
   "metadata": {
    "id": "iW9c61lFa2KA"
   },
   "source": [
    "To convert our dataframe into an array, we just store the values of df (by accessing df.values) into the variable ‘dataset’. To see what is inside this variable ‘dataset’, simply type ‘dataset’ into a grey box on your notebook and run the cell (Alt-Enter):"
   ]
  },
  {
   "cell_type": "code",
   "execution_count": 7,
   "metadata": {
    "colab": {
     "base_uri": "https://localhost:8080/"
    },
    "id": "1Tb4s4gca2KA",
    "outputId": "3c4d6d74-1c59-41e6-fa03-72d3fa63437d"
   },
   "outputs": [
    {
     "data": {
      "text/plain": [
       "array([[ 8450,     7,     5, ...,     0,   548,     1],\n",
       "       [ 9600,     6,     8, ...,     1,   460,     1],\n",
       "       [11250,     7,     5, ...,     1,   608,     1],\n",
       "       ...,\n",
       "       [ 9042,     7,     9, ...,     2,   252,     1],\n",
       "       [ 9717,     5,     6, ...,     0,   240,     0],\n",
       "       [ 9937,     5,     6, ...,     0,   276,     0]])"
      ]
     },
     "execution_count": 7,
     "metadata": {},
     "output_type": "execute_result"
    }
   ],
   "source": [
    "dataset"
   ]
  },
  {
   "cell_type": "markdown",
   "metadata": {
    "id": "O3GQ5wEWa2KC"
   },
   "source": [
    "As you can see, it is all stored in an array now:"
   ]
  },
  {
   "cell_type": "markdown",
   "metadata": {
    "id": "EmmtTrvpa2KC"
   },
   "source": [
    "We now split our dataset into input features (X) and the feature we wish to predict (Y). To do that split, we simply assign the first 10 columns of our array to a variable called X and the last column of our array to a variable called Y. The code to do the first assignment is this"
   ]
  },
  {
   "cell_type": "code",
   "execution_count": 8,
   "metadata": {
    "id": "-JywTYIHa2KD"
   },
   "outputs": [],
   "source": [
    "X = dataset[:,0:10]"
   ]
  },
  {
   "cell_type": "markdown",
   "metadata": {
    "id": "jaS5unfja2KD"
   },
   "source": [
    "This might look a bit weird, but let me explain what’s inside the square brackets. Everything before the comma refers to the rows of the array and everything after the comma refers to the columns of the arrays.\n",
    "\n",
    "Since we’re not splitting up the rows, we put a colon ‘:’ before the comma. This means to take all the rows in dataset and put it in X.\n",
    "\n",
    "We want to extract the first 10 columns, and so the ‘0:10’ after the comma means take columns 0 to 9 and put it in X (we don’t include column 10). Our columns start from index 0, so the first 10 columns are really columns 0 to 9."
   ]
  },
  {
   "cell_type": "code",
   "execution_count": 9,
   "metadata": {
    "colab": {
     "base_uri": "https://localhost:8080/"
    },
    "id": "g6QWKTCwgLZJ",
    "outputId": "95add02c-7e0e-4794-f13b-886edccc0517"
   },
   "outputs": [
    {
     "data": {
      "text/plain": [
       "8450"
      ]
     },
     "execution_count": 9,
     "metadata": {},
     "output_type": "execute_result"
    }
   ],
   "source": [
    "dataset[0,0]"
   ]
  },
  {
   "cell_type": "markdown",
   "metadata": {
    "id": "tDbtxjkugUtV"
   },
   "source": [
    "We then assign the last column of our array to Y:"
   ]
  },
  {
   "cell_type": "code",
   "execution_count": 10,
   "metadata": {
    "id": "FYCOx5Nfa2KD"
   },
   "outputs": [],
   "source": [
    "Y = dataset[:,10]"
   ]
  },
  {
   "cell_type": "markdown",
   "metadata": {
    "id": "dJoykw-fa2KE"
   },
   "source": [
    "Ok, now we’ve split our dataset into input features (X) and the label of what we want to predict (Y).\n",
    "\n",
    "The next step in our processing is to make sure that the scale of the input features are similar. Right now, features such as lot area are in the order of the thousands, a score for overall quality is ranged from 1 to 10, and the number of fireplaces tend to be 0, 1 or 2.\n"
   ]
  },
  {
   "cell_type": "code",
   "execution_count": 11,
   "metadata": {
    "colab": {
     "base_uri": "https://localhost:8080/",
     "height": 419
    },
    "id": "37PgMAXP3iUK",
    "outputId": "1da76d47-6302-49cc-fb04-0642aea059c2"
   },
   "outputs": [
    {
     "data": {
      "text/html": [
       "<div>\n",
       "<style scoped>\n",
       "    .dataframe tbody tr th:only-of-type {\n",
       "        vertical-align: middle;\n",
       "    }\n",
       "\n",
       "    .dataframe tbody tr th {\n",
       "        vertical-align: top;\n",
       "    }\n",
       "\n",
       "    .dataframe thead th {\n",
       "        text-align: right;\n",
       "    }\n",
       "</style>\n",
       "<table border=\"1\" class=\"dataframe\">\n",
       "  <thead>\n",
       "    <tr style=\"text-align: right;\">\n",
       "      <th></th>\n",
       "      <th>LotArea</th>\n",
       "      <th>OverallQual</th>\n",
       "      <th>OverallCond</th>\n",
       "      <th>TotalBsmtSF</th>\n",
       "      <th>FullBath</th>\n",
       "      <th>HalfBath</th>\n",
       "      <th>BedroomAbvGr</th>\n",
       "      <th>TotRmsAbvGrd</th>\n",
       "      <th>Fireplaces</th>\n",
       "      <th>GarageArea</th>\n",
       "      <th>AboveMedianPrice</th>\n",
       "    </tr>\n",
       "  </thead>\n",
       "  <tbody>\n",
       "    <tr>\n",
       "      <th>0</th>\n",
       "      <td>8450</td>\n",
       "      <td>7</td>\n",
       "      <td>5</td>\n",
       "      <td>856</td>\n",
       "      <td>2</td>\n",
       "      <td>1</td>\n",
       "      <td>3</td>\n",
       "      <td>8</td>\n",
       "      <td>0</td>\n",
       "      <td>548</td>\n",
       "      <td>1</td>\n",
       "    </tr>\n",
       "    <tr>\n",
       "      <th>1</th>\n",
       "      <td>9600</td>\n",
       "      <td>6</td>\n",
       "      <td>8</td>\n",
       "      <td>1262</td>\n",
       "      <td>2</td>\n",
       "      <td>0</td>\n",
       "      <td>3</td>\n",
       "      <td>6</td>\n",
       "      <td>1</td>\n",
       "      <td>460</td>\n",
       "      <td>1</td>\n",
       "    </tr>\n",
       "    <tr>\n",
       "      <th>2</th>\n",
       "      <td>11250</td>\n",
       "      <td>7</td>\n",
       "      <td>5</td>\n",
       "      <td>920</td>\n",
       "      <td>2</td>\n",
       "      <td>1</td>\n",
       "      <td>3</td>\n",
       "      <td>6</td>\n",
       "      <td>1</td>\n",
       "      <td>608</td>\n",
       "      <td>1</td>\n",
       "    </tr>\n",
       "    <tr>\n",
       "      <th>3</th>\n",
       "      <td>9550</td>\n",
       "      <td>7</td>\n",
       "      <td>5</td>\n",
       "      <td>756</td>\n",
       "      <td>1</td>\n",
       "      <td>0</td>\n",
       "      <td>3</td>\n",
       "      <td>7</td>\n",
       "      <td>1</td>\n",
       "      <td>642</td>\n",
       "      <td>0</td>\n",
       "    </tr>\n",
       "    <tr>\n",
       "      <th>4</th>\n",
       "      <td>14260</td>\n",
       "      <td>8</td>\n",
       "      <td>5</td>\n",
       "      <td>1145</td>\n",
       "      <td>2</td>\n",
       "      <td>1</td>\n",
       "      <td>4</td>\n",
       "      <td>9</td>\n",
       "      <td>1</td>\n",
       "      <td>836</td>\n",
       "      <td>1</td>\n",
       "    </tr>\n",
       "    <tr>\n",
       "      <th>...</th>\n",
       "      <td>...</td>\n",
       "      <td>...</td>\n",
       "      <td>...</td>\n",
       "      <td>...</td>\n",
       "      <td>...</td>\n",
       "      <td>...</td>\n",
       "      <td>...</td>\n",
       "      <td>...</td>\n",
       "      <td>...</td>\n",
       "      <td>...</td>\n",
       "      <td>...</td>\n",
       "    </tr>\n",
       "    <tr>\n",
       "      <th>1455</th>\n",
       "      <td>7917</td>\n",
       "      <td>6</td>\n",
       "      <td>5</td>\n",
       "      <td>953</td>\n",
       "      <td>2</td>\n",
       "      <td>1</td>\n",
       "      <td>3</td>\n",
       "      <td>7</td>\n",
       "      <td>1</td>\n",
       "      <td>460</td>\n",
       "      <td>1</td>\n",
       "    </tr>\n",
       "    <tr>\n",
       "      <th>1456</th>\n",
       "      <td>13175</td>\n",
       "      <td>6</td>\n",
       "      <td>6</td>\n",
       "      <td>1542</td>\n",
       "      <td>2</td>\n",
       "      <td>0</td>\n",
       "      <td>3</td>\n",
       "      <td>7</td>\n",
       "      <td>2</td>\n",
       "      <td>500</td>\n",
       "      <td>1</td>\n",
       "    </tr>\n",
       "    <tr>\n",
       "      <th>1457</th>\n",
       "      <td>9042</td>\n",
       "      <td>7</td>\n",
       "      <td>9</td>\n",
       "      <td>1152</td>\n",
       "      <td>2</td>\n",
       "      <td>0</td>\n",
       "      <td>4</td>\n",
       "      <td>9</td>\n",
       "      <td>2</td>\n",
       "      <td>252</td>\n",
       "      <td>1</td>\n",
       "    </tr>\n",
       "    <tr>\n",
       "      <th>1458</th>\n",
       "      <td>9717</td>\n",
       "      <td>5</td>\n",
       "      <td>6</td>\n",
       "      <td>1078</td>\n",
       "      <td>1</td>\n",
       "      <td>0</td>\n",
       "      <td>2</td>\n",
       "      <td>5</td>\n",
       "      <td>0</td>\n",
       "      <td>240</td>\n",
       "      <td>0</td>\n",
       "    </tr>\n",
       "    <tr>\n",
       "      <th>1459</th>\n",
       "      <td>9937</td>\n",
       "      <td>5</td>\n",
       "      <td>6</td>\n",
       "      <td>1256</td>\n",
       "      <td>1</td>\n",
       "      <td>1</td>\n",
       "      <td>3</td>\n",
       "      <td>6</td>\n",
       "      <td>0</td>\n",
       "      <td>276</td>\n",
       "      <td>0</td>\n",
       "    </tr>\n",
       "  </tbody>\n",
       "</table>\n",
       "<p>1460 rows × 11 columns</p>\n",
       "</div>"
      ],
      "text/plain": [
       "      LotArea  OverallQual  OverallCond  TotalBsmtSF  FullBath  HalfBath  \\\n",
       "0        8450            7            5          856         2         1   \n",
       "1        9600            6            8         1262         2         0   \n",
       "2       11250            7            5          920         2         1   \n",
       "3        9550            7            5          756         1         0   \n",
       "4       14260            8            5         1145         2         1   \n",
       "...       ...          ...          ...          ...       ...       ...   \n",
       "1455     7917            6            5          953         2         1   \n",
       "1456    13175            6            6         1542         2         0   \n",
       "1457     9042            7            9         1152         2         0   \n",
       "1458     9717            5            6         1078         1         0   \n",
       "1459     9937            5            6         1256         1         1   \n",
       "\n",
       "      BedroomAbvGr  TotRmsAbvGrd  Fireplaces  GarageArea  AboveMedianPrice  \n",
       "0                3             8           0         548                 1  \n",
       "1                3             6           1         460                 1  \n",
       "2                3             6           1         608                 1  \n",
       "3                3             7           1         642                 0  \n",
       "4                4             9           1         836                 1  \n",
       "...            ...           ...         ...         ...               ...  \n",
       "1455             3             7           1         460                 1  \n",
       "1456             3             7           2         500                 1  \n",
       "1457             4             9           2         252                 1  \n",
       "1458             2             5           0         240                 0  \n",
       "1459             3             6           0         276                 0  \n",
       "\n",
       "[1460 rows x 11 columns]"
      ]
     },
     "execution_count": 11,
     "metadata": {},
     "output_type": "execute_result"
    }
   ],
   "source": [
    "df"
   ]
  },
  {
   "cell_type": "markdown",
   "metadata": {
    "id": "fQrYDQao32Er"
   },
   "source": [
    "This makes it difficult for the initialization of the neural network, which causes some practical problems. One way to scale the data is to use an existing package from scikit-learn.\n",
    "\n",
    "We first have to import the code that we want to use:"
   ]
  },
  {
   "cell_type": "code",
   "execution_count": 12,
   "metadata": {
    "id": "Cx9OflkQa2KE"
   },
   "outputs": [],
   "source": [
    "from sklearn import preprocessing"
   ]
  },
  {
   "cell_type": "markdown",
   "metadata": {
    "id": "lKwrs2Kba2KF"
   },
   "source": [
    "This says that I want to use the code in ‘preprocessing’ within the sklearn package. Then, we use a function called the min_max_scaler, which scales the dataset so that all the input features lie between 0 and 1 inclusive, note that we chose 0 and 1 intentionally to aid the training of our neural network, but I won’t go through the theory behind this.:"
   ]
  },
  {
   "cell_type": "code",
   "execution_count": 13,
   "metadata": {
    "id": "sok2dgKy4HiB"
   },
   "outputs": [],
   "source": [
    "min_max_scaler = preprocessing.MinMaxScaler()\n",
    "X_scale = min_max_scaler.fit_transform(X)"
   ]
  },
  {
   "cell_type": "markdown",
   "metadata": {
    "id": "QEBicwEaa2KF"
   },
   "source": [
    " Now, our scaled dataset is stored in the array ‘X_scale’. If you wish to see what ‘X_scale’ looks like, simply run the cell:"
   ]
  },
  {
   "cell_type": "code",
   "execution_count": 14,
   "metadata": {
    "colab": {
     "base_uri": "https://localhost:8080/"
    },
    "id": "aFoQ_9oka2KF",
    "outputId": "285bb736-addd-41a8-b04c-3d601ee4c550"
   },
   "outputs": [
    {
     "data": {
      "text/plain": [
       "array([[0.0334198 , 0.66666667, 0.5       , ..., 0.5       , 0.        ,\n",
       "        0.3864598 ],\n",
       "       [0.03879502, 0.55555556, 0.875     , ..., 0.33333333, 0.33333333,\n",
       "        0.32440056],\n",
       "       [0.04650728, 0.66666667, 0.5       , ..., 0.33333333, 0.33333333,\n",
       "        0.42877292],\n",
       "       ...,\n",
       "       [0.03618687, 0.66666667, 1.        , ..., 0.58333333, 0.66666667,\n",
       "        0.17771509],\n",
       "       [0.03934189, 0.44444444, 0.625     , ..., 0.25      , 0.        ,\n",
       "        0.16925247],\n",
       "       [0.04037019, 0.44444444, 0.625     , ..., 0.33333333, 0.        ,\n",
       "        0.19464034]])"
      ]
     },
     "execution_count": 14,
     "metadata": {},
     "output_type": "execute_result"
    }
   ],
   "source": [
    "X_scale"
   ]
  },
  {
   "cell_type": "markdown",
   "metadata": {
    "id": "L3Uod-WIa2KG"
   },
   "source": [
    "Now, we are down to our last step in processing the data, which is to split our dataset into a training set to train our networks, a validation set to validate the performance after each iteration of training and a test set to evaluate the final model.\n",
    "\n",
    "We will use the code from scikit-learn called ‘train_test_split’, which as the name suggests, split our dataset into a training set and a test set. We first import the code we need:"
   ]
  },
  {
   "cell_type": "code",
   "execution_count": 15,
   "metadata": {
    "id": "nntCDDm4a2KG"
   },
   "outputs": [],
   "source": [
    "from sklearn.model_selection import train_test_split"
   ]
  },
  {
   "cell_type": "markdown",
   "metadata": {
    "id": "o0oJQJ91a2KG"
   },
   "source": [
    "Then, split your dataset like this:"
   ]
  },
  {
   "cell_type": "code",
   "execution_count": 16,
   "metadata": {
    "id": "Tsadmil-a2KG"
   },
   "outputs": [],
   "source": [
    "X_train, X_val_and_test, Y_train, Y_val_and_test = train_test_split(X_scale, Y, test_size=0.3)"
   ]
  },
  {
   "cell_type": "markdown",
   "metadata": {
    "id": "LCEly2t1a2KH"
   },
   "source": [
    "This tells scikit-learn that the size of your validation set and test set will be 30% of the overall dataset. The code will store the split data into the first four variables on the left of the equal sign as the variable names suggest.\n",
    "\n",
    "Unfortunately, this function only helps us split our dataset into two. Since we want a separate validation set and test set, we can use the same function to do the split again on the parameter val_and_test:"
   ]
  },
  {
   "cell_type": "code",
   "execution_count": 17,
   "metadata": {
    "id": "CaICSWgya2KH"
   },
   "outputs": [],
   "source": [
    "X_val, X_test, Y_val, Y_test = train_test_split(X_val_and_test, Y_val_and_test, test_size=0.5)"
   ]
  },
  {
   "cell_type": "markdown",
   "metadata": {
    "id": "nNfLiiFBa2KK"
   },
   "source": [
    "The code above will split the val_and_test equally into the validation set and the test set.\n",
    "\n",
    "In summary, we now have a total of six variables for our datasets:\n",
    "\n",
    "* X_train (10 input features, 70% of full dataset)\n",
    "\n",
    "* X_val (10 input features, 15% of full dataset)\n",
    "\n",
    "* X_test (10 input features, 15% of full dataset)\n",
    "\n",
    "* Y_train (1 label, 70% of full dataset)\n",
    "\n",
    "* Y_val (1 label, 15% of full dataset)\n",
    "\n",
    "* Y_test (1 label, 15% of full dataset)\n",
    "\n",
    "If you want to see how the shapes of the arrays are for each of them (i.e. what dimensions they are), simply run"
   ]
  },
  {
   "cell_type": "code",
   "execution_count": 18,
   "metadata": {
    "colab": {
     "base_uri": "https://localhost:8080/"
    },
    "id": "WOKaiSrsa2KK",
    "outputId": "f3d592d6-d6ab-492b-da50-a5d7789bd7ed"
   },
   "outputs": [
    {
     "name": "stdout",
     "output_type": "stream",
     "text": [
      "(1022, 10) (219, 10) (219, 10) (1022,) (219,) (219,)\n"
     ]
    }
   ],
   "source": [
    "print(X_train.shape, X_val.shape, X_test.shape, Y_train.shape, Y_val.shape, Y_test.shape)"
   ]
  },
  {
   "cell_type": "markdown",
   "metadata": {
    "id": "4ieS63o8a2KM"
   },
   "source": [
    "As you can see, the training set has 1022 data points while the validation and test set has 219 data points each. The X variables have 10 input features, while the Y variables only has one feature to predict.\n",
    "\n",
    "And now, our data is finally ready! "
   ]
  },
  {
   "cell_type": "markdown",
   "metadata": {
    "id": "B-lNZybxa2KM"
   },
   "source": [
    "# Building and Training our First Neural Network"
   ]
  },
  {
   "cell_type": "markdown",
   "metadata": {
    "id": "-PYH7jYda2KM"
   },
   "source": [
    "Machine Learning consists of two steps. The first step is to specify a template (an architecture) and the second step is to find the best numbers (parameters) based on the data to fill in that template. Our code from here on will also follow these two steps."
   ]
  },
  {
   "cell_type": "markdown",
   "metadata": {
    "id": "6JGfve8La2KM"
   },
   "source": [
    "# Step one: Setting up the Architecture"
   ]
  },
  {
   "cell_type": "markdown",
   "metadata": {
    "id": "RDoatAoEa2KN"
   },
   "source": [
    "The first thing we have to do is to set up the architecture. Let’s first think about what kind of neural network architecture we want. Suppose we want this neural network:"
   ]
  },
  {
   "cell_type": "markdown",
   "metadata": {
    "id": "wM1PDF5oa2KN"
   },
   "source": [
    "In words, we want to have these layers:\n",
    "\n",
    "* Hidden layer 1: 32 neurons, ReLU activation\n",
    "    \n",
    "* Hidden layer 2: 32 neurons, ReLU activation\n",
    "    \n",
    "* Output Layer: 1 neuron, Sigmoid activation\n",
    "    \n",
    "Now, we need to describe this architecture to Keras. We will be using the Sequential model to do this.\n",
    "\n",
    "First, let’s import the necessary code from Keras:"
   ]
  },
  {
   "cell_type": "code",
   "execution_count": 34,
   "metadata": {
    "id": "UyxxK_yda2KN"
   },
   "outputs": [
    {
     "ename": "ImportError",
     "evalue": "cannot import name 'builder' from 'google.protobuf.internal' (/Users/hauwabako/opt/anaconda3/lib/python3.9/site-packages/google/protobuf/internal/__init__.py)",
     "output_type": "error",
     "traceback": [
      "\u001b[0;31m---------------------------------------------------------------------------\u001b[0m",
      "\u001b[0;31mImportError\u001b[0m                               Traceback (most recent call last)",
      "\u001b[0;32m/var/folders/c0/tgqzkv_d2fb52ygqpsqq3kvc0000gn/T/ipykernel_15839/1380535976.py\u001b[0m in \u001b[0;36m<module>\u001b[0;34m\u001b[0m\n\u001b[0;32m----> 1\u001b[0;31m \u001b[0;32mimport\u001b[0m \u001b[0mtensorflow\u001b[0m \u001b[0;32mas\u001b[0m \u001b[0mtf\u001b[0m\u001b[0;34m\u001b[0m\u001b[0;34m\u001b[0m\u001b[0m\n\u001b[0m\u001b[1;32m      2\u001b[0m \u001b[0;34m\u001b[0m\u001b[0m\n\u001b[1;32m      3\u001b[0m \u001b[0;34m\u001b[0m\u001b[0m\n\u001b[1;32m      4\u001b[0m \u001b[0;32mfrom\u001b[0m \u001b[0mtensorflow\u001b[0m\u001b[0;34m.\u001b[0m\u001b[0mkeras\u001b[0m \u001b[0;32mimport\u001b[0m \u001b[0mSequential\u001b[0m\u001b[0;34m\u001b[0m\u001b[0;34m\u001b[0m\u001b[0m\n\u001b[1;32m      5\u001b[0m \u001b[0;32mfrom\u001b[0m \u001b[0mtensorflow\u001b[0m\u001b[0;34m.\u001b[0m\u001b[0mkeras\u001b[0m\u001b[0;34m.\u001b[0m\u001b[0mlayers\u001b[0m \u001b[0;32mimport\u001b[0m \u001b[0mActivation\u001b[0m\u001b[0;34m,\u001b[0m \u001b[0mDense\u001b[0m\u001b[0;34m\u001b[0m\u001b[0;34m\u001b[0m\u001b[0m\n",
      "\u001b[0;32m~/opt/anaconda3/lib/python3.9/site-packages/tensorflow/__init__.py\u001b[0m in \u001b[0;36m<module>\u001b[0;34m\u001b[0m\n\u001b[1;32m     35\u001b[0m \u001b[0;32mimport\u001b[0m \u001b[0mtyping\u001b[0m \u001b[0;32mas\u001b[0m \u001b[0m_typing\u001b[0m\u001b[0;34m\u001b[0m\u001b[0;34m\u001b[0m\u001b[0m\n\u001b[1;32m     36\u001b[0m \u001b[0;34m\u001b[0m\u001b[0m\n\u001b[0;32m---> 37\u001b[0;31m \u001b[0;32mfrom\u001b[0m \u001b[0mtensorflow\u001b[0m\u001b[0;34m.\u001b[0m\u001b[0mpython\u001b[0m\u001b[0;34m.\u001b[0m\u001b[0mtools\u001b[0m \u001b[0;32mimport\u001b[0m \u001b[0mmodule_util\u001b[0m \u001b[0;32mas\u001b[0m \u001b[0m_module_util\u001b[0m\u001b[0;34m\u001b[0m\u001b[0;34m\u001b[0m\u001b[0m\n\u001b[0m\u001b[1;32m     38\u001b[0m \u001b[0;32mfrom\u001b[0m \u001b[0mtensorflow\u001b[0m\u001b[0;34m.\u001b[0m\u001b[0mpython\u001b[0m\u001b[0;34m.\u001b[0m\u001b[0mutil\u001b[0m\u001b[0;34m.\u001b[0m\u001b[0mlazy_loader\u001b[0m \u001b[0;32mimport\u001b[0m \u001b[0mLazyLoader\u001b[0m \u001b[0;32mas\u001b[0m \u001b[0m_LazyLoader\u001b[0m\u001b[0;34m\u001b[0m\u001b[0;34m\u001b[0m\u001b[0m\n\u001b[1;32m     39\u001b[0m \u001b[0;34m\u001b[0m\u001b[0m\n",
      "\u001b[0;32m~/opt/anaconda3/lib/python3.9/site-packages/tensorflow/python/__init__.py\u001b[0m in \u001b[0;36m<module>\u001b[0;34m\u001b[0m\n\u001b[1;32m     35\u001b[0m \u001b[0;34m\u001b[0m\u001b[0m\n\u001b[1;32m     36\u001b[0m \u001b[0;32mfrom\u001b[0m \u001b[0mtensorflow\u001b[0m\u001b[0;34m.\u001b[0m\u001b[0mpython\u001b[0m \u001b[0;32mimport\u001b[0m \u001b[0mpywrap_tensorflow\u001b[0m \u001b[0;32mas\u001b[0m \u001b[0m_pywrap_tensorflow\u001b[0m\u001b[0;34m\u001b[0m\u001b[0;34m\u001b[0m\u001b[0m\n\u001b[0;32m---> 37\u001b[0;31m \u001b[0;32mfrom\u001b[0m \u001b[0mtensorflow\u001b[0m\u001b[0;34m.\u001b[0m\u001b[0mpython\u001b[0m\u001b[0;34m.\u001b[0m\u001b[0meager\u001b[0m \u001b[0;32mimport\u001b[0m \u001b[0mcontext\u001b[0m\u001b[0;34m\u001b[0m\u001b[0;34m\u001b[0m\u001b[0m\n\u001b[0m\u001b[1;32m     38\u001b[0m \u001b[0;34m\u001b[0m\u001b[0m\n\u001b[1;32m     39\u001b[0m \u001b[0;31m# pylint: enable=wildcard-import\u001b[0m\u001b[0;34m\u001b[0m\u001b[0;34m\u001b[0m\u001b[0m\n",
      "\u001b[0;32m~/opt/anaconda3/lib/python3.9/site-packages/tensorflow/python/eager/context.py\u001b[0m in \u001b[0;36m<module>\u001b[0;34m\u001b[0m\n\u001b[1;32m     26\u001b[0m \u001b[0;32mimport\u001b[0m \u001b[0mnumpy\u001b[0m \u001b[0;32mas\u001b[0m \u001b[0mnp\u001b[0m\u001b[0;34m\u001b[0m\u001b[0;34m\u001b[0m\u001b[0m\n\u001b[1;32m     27\u001b[0m \u001b[0;34m\u001b[0m\u001b[0m\n\u001b[0;32m---> 28\u001b[0;31m \u001b[0;32mfrom\u001b[0m \u001b[0mtensorflow\u001b[0m\u001b[0;34m.\u001b[0m\u001b[0mcore\u001b[0m\u001b[0;34m.\u001b[0m\u001b[0mframework\u001b[0m \u001b[0;32mimport\u001b[0m \u001b[0mfunction_pb2\u001b[0m\u001b[0;34m\u001b[0m\u001b[0;34m\u001b[0m\u001b[0m\n\u001b[0m\u001b[1;32m     29\u001b[0m \u001b[0;32mfrom\u001b[0m \u001b[0mtensorflow\u001b[0m\u001b[0;34m.\u001b[0m\u001b[0mcore\u001b[0m\u001b[0;34m.\u001b[0m\u001b[0mprotobuf\u001b[0m \u001b[0;32mimport\u001b[0m \u001b[0mconfig_pb2\u001b[0m\u001b[0;34m\u001b[0m\u001b[0;34m\u001b[0m\u001b[0m\n\u001b[1;32m     30\u001b[0m \u001b[0;32mfrom\u001b[0m \u001b[0mtensorflow\u001b[0m\u001b[0;34m.\u001b[0m\u001b[0mcore\u001b[0m\u001b[0;34m.\u001b[0m\u001b[0mprotobuf\u001b[0m \u001b[0;32mimport\u001b[0m \u001b[0mrewriter_config_pb2\u001b[0m\u001b[0;34m\u001b[0m\u001b[0;34m\u001b[0m\u001b[0m\n",
      "\u001b[0;32m~/opt/anaconda3/lib/python3.9/site-packages/tensorflow/core/framework/function_pb2.py\u001b[0m in \u001b[0;36m<module>\u001b[0;34m\u001b[0m\n\u001b[1;32m      3\u001b[0m \u001b[0;31m# source: tensorflow/core/framework/function.proto\u001b[0m\u001b[0;34m\u001b[0m\u001b[0;34m\u001b[0m\u001b[0m\n\u001b[1;32m      4\u001b[0m \u001b[0;34m\"\"\"Generated protocol buffer code.\"\"\"\u001b[0m\u001b[0;34m\u001b[0m\u001b[0;34m\u001b[0m\u001b[0m\n\u001b[0;32m----> 5\u001b[0;31m \u001b[0;32mfrom\u001b[0m \u001b[0mgoogle\u001b[0m\u001b[0;34m.\u001b[0m\u001b[0mprotobuf\u001b[0m\u001b[0;34m.\u001b[0m\u001b[0minternal\u001b[0m \u001b[0;32mimport\u001b[0m \u001b[0mbuilder\u001b[0m \u001b[0;32mas\u001b[0m \u001b[0m_builder\u001b[0m\u001b[0;34m\u001b[0m\u001b[0;34m\u001b[0m\u001b[0m\n\u001b[0m\u001b[1;32m      6\u001b[0m \u001b[0;32mfrom\u001b[0m \u001b[0mgoogle\u001b[0m\u001b[0;34m.\u001b[0m\u001b[0mprotobuf\u001b[0m \u001b[0;32mimport\u001b[0m \u001b[0mdescriptor\u001b[0m \u001b[0;32mas\u001b[0m \u001b[0m_descriptor\u001b[0m\u001b[0;34m\u001b[0m\u001b[0;34m\u001b[0m\u001b[0m\n\u001b[1;32m      7\u001b[0m \u001b[0;32mfrom\u001b[0m \u001b[0mgoogle\u001b[0m\u001b[0;34m.\u001b[0m\u001b[0mprotobuf\u001b[0m \u001b[0;32mimport\u001b[0m \u001b[0mdescriptor_pool\u001b[0m \u001b[0;32mas\u001b[0m \u001b[0m_descriptor_pool\u001b[0m\u001b[0;34m\u001b[0m\u001b[0;34m\u001b[0m\u001b[0m\n",
      "\u001b[0;31mImportError\u001b[0m: cannot import name 'builder' from 'google.protobuf.internal' (/Users/hauwabako/opt/anaconda3/lib/python3.9/site-packages/google/protobuf/internal/__init__.py)"
     ]
    }
   ],
   "source": [
    "import tensorflow as tf\n",
    "\n",
    "\n",
    "from tensorflow.keras import Sequential \n",
    "from tensorflow.keras.layers import Activation, Dense\n"
   ]
  },
  {
   "cell_type": "markdown",
   "metadata": {
    "id": "K-QjTNZLa2KN"
   },
   "source": [
    "In Keras, we need to specify that our sequential model like this:"
   ]
  },
  {
   "cell_type": "code",
   "execution_count": 31,
   "metadata": {
    "id": "90roca8da2KP"
   },
   "outputs": [
    {
     "ename": "NameError",
     "evalue": "name 'Sequential' is not defined",
     "output_type": "error",
     "traceback": [
      "\u001b[0;31m---------------------------------------------------------------------------\u001b[0m",
      "\u001b[0;31mNameError\u001b[0m                                 Traceback (most recent call last)",
      "\u001b[0;32m/var/folders/c0/tgqzkv_d2fb52ygqpsqq3kvc0000gn/T/ipykernel_15839/4294338745.py\u001b[0m in \u001b[0;36m<module>\u001b[0;34m\u001b[0m\n\u001b[0;32m----> 1\u001b[0;31m model = Sequential([Dense(32, activation='relu', input_shape=(10,)),\n\u001b[0m\u001b[1;32m      2\u001b[0m                     \u001b[0mDense\u001b[0m\u001b[0;34m(\u001b[0m\u001b[0;36m32\u001b[0m\u001b[0;34m,\u001b[0m \u001b[0mactivation\u001b[0m\u001b[0;34m=\u001b[0m\u001b[0;34m'relu'\u001b[0m\u001b[0;34m)\u001b[0m\u001b[0;34m,\u001b[0m\u001b[0;34m\u001b[0m\u001b[0;34m\u001b[0m\u001b[0m\n\u001b[1;32m      3\u001b[0m                     \u001b[0mDense\u001b[0m\u001b[0;34m(\u001b[0m\u001b[0;36m1\u001b[0m\u001b[0;34m,\u001b[0m \u001b[0mactivation\u001b[0m\u001b[0;34m=\u001b[0m\u001b[0;34m'sigmoid'\u001b[0m\u001b[0;34m)\u001b[0m\u001b[0;34m,\u001b[0m\u001b[0;34m\u001b[0m\u001b[0;34m\u001b[0m\u001b[0m\n\u001b[1;32m      4\u001b[0m                     ])\n",
      "\u001b[0;31mNameError\u001b[0m: name 'Sequential' is not defined"
     ]
    }
   ],
   "source": [
    "model = Sequential([Dense(32, activation='relu', input_shape=(10,)),\n",
    "                    Dense(32, activation='relu'),\n",
    "                    Dense(1, activation='sigmoid'),\n",
    "                    ])"
   ]
  },
  {
   "cell_type": "markdown",
   "metadata": {
    "id": "jPrTevQda2KP"
   },
   "source": [
    "The code snippet above has defined our architecture! The code above can be interpreted like this:\n",
    "        \n",
    "        model = Sequential([ ... ])\n",
    "\n",
    "This says that we will store our model in the variable ‘model’, and we’ll describe it sequentially (layer by layer) in between the square brackets.\n",
    "\n",
    "        Dense(32, activation='relu', input_shape=(10,)),\n",
    "\n",
    "We have our first layer as a dense layer with 32 neurons, ReLU activation and the input shape is 10 since we have 10 input features. Note that ‘Dense’ refers to a fully-connected layer, which is what we will be using.\n",
    "\n",
    "        Dense(32, activation='relu'),\n",
    "\n",
    "Our second layer is also a dense layer with 32 neurons, ReLU activation. Note that we do not have to describe the input shape since Keras can infer from the output of our first layer.\n",
    "\n",
    "        Dense(1, activation='sigmoid'),\n",
    "\n",
    "Our third layer is a dense layer with 1 neuron, sigmoid activation.\n",
    "\n",
    "And just like that, we have written our model architecture (template) in code!"
   ]
  },
  {
   "cell_type": "markdown",
   "metadata": {
    "id": "IzlnQOVKa2KQ"
   },
   "source": [
    "\n",
    "# Step Two, Filling in the best numbers\n"
   ]
  },
  {
   "cell_type": "markdown",
   "metadata": {
    "id": "Dq_N7VOZa2KQ"
   },
   "source": [
    "Now that we’ve got our architecture specified, we need to find the best numbers for it. Before we start our training, we have to configure the model by:\n",
    "\n",
    "* Telling it which algorithm you want to use to do the optimization\n",
    "\n",
    "* Telling it what loss function to use\n",
    "\n",
    "* Telling it what other metrics you want to track apart from the loss function\n",
    "\n",
    "Configuring the model with these settings requires us to call the function model.compile, like this:"
   ]
  },
  {
   "cell_type": "code",
   "execution_count": 19,
   "metadata": {
    "id": "T8zQt7tea2KQ"
   },
   "outputs": [],
   "source": [
    "model.compile(optimizer='sgd',\n",
    "              loss='binary_crossentropy',\n",
    "              metrics=['accuracy'])"
   ]
  },
  {
   "cell_type": "markdown",
   "metadata": {
    "id": "rz_vftIoa2KQ"
   },
   "source": [
    "We put the following settings inside the brackets after model.compile:\n",
    "\n",
    "    optimizer='sgd'\n",
    "\n",
    "‘sgd’ refers to stochastic gradient descent\n",
    "\n",
    "\n",
    "    loss='binary_crossentropy'\n",
    "\n",
    "The loss function for outputs that take the values 1 or 0 is called binary cross entropy.\n",
    "\n",
    "    metrics=['accuracy']\n",
    "\n",
    "Lastly, we want to track accuracy on top of the loss function.\n",
    "\n",
    "Now once we’ve run that cell, we are ready to train!\n",
    "\n",
    "Training on the data is pretty straightforward and requires us to write one line of code:"
   ]
  },
  {
   "cell_type": "markdown",
   "metadata": {
    "id": "EmPVTeHQa2KR"
   },
   "source": [
    "The function is called ‘fit’ as we are fitting the parameters to the data. We have to specify what data we are training on, which is X_train and Y_train. Then, we specify the size of our mini-batch and how long we want to train it for (epochs). Lastly, we specify what our validation data is so that the model will tell us how we are doing on the validation data at each point. This function will output a history, which we save under the variable 'hist'. We’ll use this variable a little later when we get to visualization."
   ]
  },
  {
   "cell_type": "code",
   "execution_count": 20,
   "metadata": {
    "colab": {
     "base_uri": "https://localhost:8080/"
    },
    "id": "d3DH05LVa2KR",
    "outputId": "dfc051ab-579c-48da-f93a-3b02513c0a7f"
   },
   "outputs": [
    {
     "name": "stdout",
     "output_type": "stream",
     "text": [
      "Epoch 1/100\n",
      "32/32 [==============================] - 1s 15ms/step - loss: 0.7048 - accuracy: 0.4032 - val_loss: 0.6945 - val_accuracy: 0.5114\n",
      "Epoch 2/100\n",
      "32/32 [==============================] - 0s 2ms/step - loss: 0.6971 - accuracy: 0.4382 - val_loss: 0.6913 - val_accuracy: 0.5160\n",
      "Epoch 3/100\n",
      "32/32 [==============================] - 0s 2ms/step - loss: 0.6924 - accuracy: 0.5019 - val_loss: 0.6884 - val_accuracy: 0.6119\n",
      "Epoch 4/100\n",
      "32/32 [==============================] - 0s 2ms/step - loss: 0.6885 - accuracy: 0.5967 - val_loss: 0.6858 - val_accuracy: 0.6347\n",
      "Epoch 5/100\n",
      "32/32 [==============================] - 0s 2ms/step - loss: 0.6835 - accuracy: 0.6224 - val_loss: 0.6828 - val_accuracy: 0.6575\n",
      "Epoch 6/100\n",
      "32/32 [==============================] - 0s 2ms/step - loss: 0.6815 - accuracy: 0.6414 - val_loss: 0.6796 - val_accuracy: 0.6849\n",
      "Epoch 7/100\n",
      "32/32 [==============================] - 0s 2ms/step - loss: 0.6788 - accuracy: 0.6580 - val_loss: 0.6759 - val_accuracy: 0.6895\n",
      "Epoch 8/100\n",
      "32/32 [==============================] - 0s 2ms/step - loss: 0.6719 - accuracy: 0.6826 - val_loss: 0.6721 - val_accuracy: 0.6941\n",
      "Epoch 9/100\n",
      "32/32 [==============================] - 0s 2ms/step - loss: 0.6672 - accuracy: 0.6921 - val_loss: 0.6684 - val_accuracy: 0.7123\n",
      "Epoch 10/100\n",
      "32/32 [==============================] - 0s 2ms/step - loss: 0.6651 - accuracy: 0.7175 - val_loss: 0.6645 - val_accuracy: 0.7169\n",
      "Epoch 11/100\n",
      "32/32 [==============================] - 0s 2ms/step - loss: 0.6602 - accuracy: 0.7313 - val_loss: 0.6607 - val_accuracy: 0.7352\n",
      "Epoch 12/100\n",
      "32/32 [==============================] - 0s 2ms/step - loss: 0.6544 - accuracy: 0.7316 - val_loss: 0.6570 - val_accuracy: 0.7489\n",
      "Epoch 13/100\n",
      "32/32 [==============================] - 0s 2ms/step - loss: 0.6535 - accuracy: 0.7621 - val_loss: 0.6536 - val_accuracy: 0.7489\n",
      "Epoch 14/100\n",
      "32/32 [==============================] - 0s 2ms/step - loss: 0.6456 - accuracy: 0.7530 - val_loss: 0.6497 - val_accuracy: 0.7443\n",
      "Epoch 15/100\n",
      "32/32 [==============================] - 0s 2ms/step - loss: 0.6467 - accuracy: 0.7501 - val_loss: 0.6462 - val_accuracy: 0.7489\n",
      "Epoch 16/100\n",
      "32/32 [==============================] - 0s 2ms/step - loss: 0.6424 - accuracy: 0.7745 - val_loss: 0.6422 - val_accuracy: 0.7443\n",
      "Epoch 17/100\n",
      "32/32 [==============================] - 0s 2ms/step - loss: 0.6388 - accuracy: 0.7581 - val_loss: 0.6379 - val_accuracy: 0.7489\n",
      "Epoch 18/100\n",
      "32/32 [==============================] - 0s 2ms/step - loss: 0.6328 - accuracy: 0.7800 - val_loss: 0.6335 - val_accuracy: 0.7626\n",
      "Epoch 19/100\n",
      "32/32 [==============================] - 0s 2ms/step - loss: 0.6258 - accuracy: 0.7929 - val_loss: 0.6292 - val_accuracy: 0.7671\n",
      "Epoch 20/100\n",
      "32/32 [==============================] - 0s 2ms/step - loss: 0.6218 - accuracy: 0.7790 - val_loss: 0.6236 - val_accuracy: 0.7626\n",
      "Epoch 21/100\n",
      "32/32 [==============================] - 0s 2ms/step - loss: 0.6159 - accuracy: 0.8030 - val_loss: 0.6179 - val_accuracy: 0.7717\n",
      "Epoch 22/100\n",
      "32/32 [==============================] - 0s 2ms/step - loss: 0.6126 - accuracy: 0.7923 - val_loss: 0.6122 - val_accuracy: 0.7854\n",
      "Epoch 23/100\n",
      "32/32 [==============================] - 0s 2ms/step - loss: 0.6046 - accuracy: 0.8068 - val_loss: 0.6064 - val_accuracy: 0.7900\n",
      "Epoch 24/100\n",
      "32/32 [==============================] - 0s 2ms/step - loss: 0.6088 - accuracy: 0.7872 - val_loss: 0.6001 - val_accuracy: 0.7991\n",
      "Epoch 25/100\n",
      "32/32 [==============================] - 0s 2ms/step - loss: 0.5904 - accuracy: 0.8116 - val_loss: 0.5930 - val_accuracy: 0.8082\n",
      "Epoch 26/100\n",
      "32/32 [==============================] - 0s 2ms/step - loss: 0.5876 - accuracy: 0.8131 - val_loss: 0.5861 - val_accuracy: 0.8082\n",
      "Epoch 27/100\n",
      "32/32 [==============================] - 0s 2ms/step - loss: 0.5787 - accuracy: 0.8244 - val_loss: 0.5781 - val_accuracy: 0.8128\n",
      "Epoch 28/100\n",
      "32/32 [==============================] - 0s 2ms/step - loss: 0.5760 - accuracy: 0.8110 - val_loss: 0.5709 - val_accuracy: 0.8082\n",
      "Epoch 29/100\n",
      "32/32 [==============================] - 0s 3ms/step - loss: 0.5642 - accuracy: 0.8427 - val_loss: 0.5632 - val_accuracy: 0.8082\n",
      "Epoch 30/100\n",
      "32/32 [==============================] - 0s 2ms/step - loss: 0.5616 - accuracy: 0.8307 - val_loss: 0.5551 - val_accuracy: 0.8174\n",
      "Epoch 31/100\n",
      "32/32 [==============================] - 0s 2ms/step - loss: 0.5595 - accuracy: 0.8229 - val_loss: 0.5471 - val_accuracy: 0.8219\n",
      "Epoch 32/100\n",
      "32/32 [==============================] - 0s 2ms/step - loss: 0.5439 - accuracy: 0.8444 - val_loss: 0.5385 - val_accuracy: 0.8219\n",
      "Epoch 33/100\n",
      "32/32 [==============================] - 0s 2ms/step - loss: 0.5288 - accuracy: 0.8457 - val_loss: 0.5300 - val_accuracy: 0.8219\n",
      "Epoch 34/100\n",
      "32/32 [==============================] - 0s 2ms/step - loss: 0.5204 - accuracy: 0.8537 - val_loss: 0.5214 - val_accuracy: 0.8311\n",
      "Epoch 35/100\n",
      "32/32 [==============================] - 0s 2ms/step - loss: 0.5218 - accuracy: 0.8435 - val_loss: 0.5123 - val_accuracy: 0.8265\n",
      "Epoch 36/100\n",
      "32/32 [==============================] - 0s 2ms/step - loss: 0.5166 - accuracy: 0.8399 - val_loss: 0.5044 - val_accuracy: 0.8356\n",
      "Epoch 37/100\n",
      "32/32 [==============================] - 0s 2ms/step - loss: 0.5095 - accuracy: 0.8443 - val_loss: 0.4972 - val_accuracy: 0.8356\n",
      "Epoch 38/100\n",
      "32/32 [==============================] - 0s 2ms/step - loss: 0.4967 - accuracy: 0.8429 - val_loss: 0.4881 - val_accuracy: 0.8402\n",
      "Epoch 39/100\n",
      "32/32 [==============================] - 0s 2ms/step - loss: 0.4877 - accuracy: 0.8517 - val_loss: 0.4796 - val_accuracy: 0.8356\n",
      "Epoch 40/100\n",
      "32/32 [==============================] - 0s 2ms/step - loss: 0.4786 - accuracy: 0.8602 - val_loss: 0.4716 - val_accuracy: 0.8311\n",
      "Epoch 41/100\n",
      "32/32 [==============================] - 0s 2ms/step - loss: 0.4705 - accuracy: 0.8413 - val_loss: 0.4656 - val_accuracy: 0.8356\n",
      "Epoch 42/100\n",
      "32/32 [==============================] - 0s 2ms/step - loss: 0.4599 - accuracy: 0.8574 - val_loss: 0.4562 - val_accuracy: 0.8311\n",
      "Epoch 43/100\n",
      "32/32 [==============================] - 0s 2ms/step - loss: 0.4612 - accuracy: 0.8474 - val_loss: 0.4490 - val_accuracy: 0.8447\n",
      "Epoch 44/100\n",
      "32/32 [==============================] - 0s 2ms/step - loss: 0.4534 - accuracy: 0.8597 - val_loss: 0.4417 - val_accuracy: 0.8447\n",
      "Epoch 45/100\n",
      "32/32 [==============================] - 0s 2ms/step - loss: 0.4429 - accuracy: 0.8565 - val_loss: 0.4347 - val_accuracy: 0.8493\n",
      "Epoch 46/100\n",
      "32/32 [==============================] - 0s 2ms/step - loss: 0.4351 - accuracy: 0.8434 - val_loss: 0.4288 - val_accuracy: 0.8493\n",
      "Epoch 47/100\n",
      "32/32 [==============================] - 0s 2ms/step - loss: 0.4310 - accuracy: 0.8511 - val_loss: 0.4234 - val_accuracy: 0.8493\n",
      "Epoch 48/100\n",
      "32/32 [==============================] - 0s 2ms/step - loss: 0.4099 - accuracy: 0.8661 - val_loss: 0.4156 - val_accuracy: 0.8539\n",
      "Epoch 49/100\n",
      "32/32 [==============================] - 0s 2ms/step - loss: 0.4127 - accuracy: 0.8669 - val_loss: 0.4101 - val_accuracy: 0.8539\n",
      "Epoch 50/100\n",
      "32/32 [==============================] - 0s 2ms/step - loss: 0.4017 - accuracy: 0.8695 - val_loss: 0.4032 - val_accuracy: 0.8539\n",
      "Epoch 51/100\n",
      "32/32 [==============================] - 0s 2ms/step - loss: 0.4038 - accuracy: 0.8566 - val_loss: 0.4000 - val_accuracy: 0.8493\n",
      "Epoch 52/100\n",
      "32/32 [==============================] - 0s 2ms/step - loss: 0.3869 - accuracy: 0.8698 - val_loss: 0.3945 - val_accuracy: 0.8539\n",
      "Epoch 53/100\n",
      "32/32 [==============================] - 0s 2ms/step - loss: 0.3971 - accuracy: 0.8549 - val_loss: 0.3888 - val_accuracy: 0.8539\n",
      "Epoch 54/100\n",
      "32/32 [==============================] - 0s 2ms/step - loss: 0.3944 - accuracy: 0.8542 - val_loss: 0.3838 - val_accuracy: 0.8539\n",
      "Epoch 55/100\n",
      "32/32 [==============================] - 0s 2ms/step - loss: 0.3790 - accuracy: 0.8652 - val_loss: 0.3801 - val_accuracy: 0.8539\n",
      "Epoch 56/100\n",
      "32/32 [==============================] - 0s 2ms/step - loss: 0.3836 - accuracy: 0.8586 - val_loss: 0.3749 - val_accuracy: 0.8584\n",
      "Epoch 57/100\n",
      "32/32 [==============================] - 0s 2ms/step - loss: 0.3646 - accuracy: 0.8667 - val_loss: 0.3730 - val_accuracy: 0.8493\n",
      "Epoch 58/100\n",
      "32/32 [==============================] - 0s 2ms/step - loss: 0.3731 - accuracy: 0.8642 - val_loss: 0.3663 - val_accuracy: 0.8676\n",
      "Epoch 59/100\n",
      "32/32 [==============================] - 0s 3ms/step - loss: 0.3452 - accuracy: 0.8851 - val_loss: 0.3648 - val_accuracy: 0.8539\n",
      "Epoch 60/100\n",
      "32/32 [==============================] - 0s 2ms/step - loss: 0.3579 - accuracy: 0.8713 - val_loss: 0.3601 - val_accuracy: 0.8721\n",
      "Epoch 61/100\n",
      "32/32 [==============================] - 0s 2ms/step - loss: 0.3317 - accuracy: 0.8747 - val_loss: 0.3578 - val_accuracy: 0.8630\n",
      "Epoch 62/100\n",
      "32/32 [==============================] - 0s 2ms/step - loss: 0.3426 - accuracy: 0.8791 - val_loss: 0.3547 - val_accuracy: 0.8630\n",
      "Epoch 63/100\n",
      "32/32 [==============================] - 0s 2ms/step - loss: 0.3460 - accuracy: 0.8667 - val_loss: 0.3529 - val_accuracy: 0.8676\n",
      "Epoch 64/100\n",
      "32/32 [==============================] - 0s 3ms/step - loss: 0.3257 - accuracy: 0.8937 - val_loss: 0.3497 - val_accuracy: 0.8630\n",
      "Epoch 65/100\n",
      "32/32 [==============================] - 0s 3ms/step - loss: 0.3379 - accuracy: 0.8646 - val_loss: 0.3459 - val_accuracy: 0.8721\n",
      "Epoch 66/100\n",
      "32/32 [==============================] - 0s 2ms/step - loss: 0.3284 - accuracy: 0.8769 - val_loss: 0.3443 - val_accuracy: 0.8630\n",
      "Epoch 67/100\n",
      "32/32 [==============================] - 0s 2ms/step - loss: 0.3221 - accuracy: 0.8823 - val_loss: 0.3428 - val_accuracy: 0.8676\n",
      "Epoch 68/100\n",
      "32/32 [==============================] - 0s 2ms/step - loss: 0.3112 - accuracy: 0.8718 - val_loss: 0.3392 - val_accuracy: 0.8767\n",
      "Epoch 69/100\n",
      "32/32 [==============================] - 0s 2ms/step - loss: 0.3436 - accuracy: 0.8642 - val_loss: 0.3410 - val_accuracy: 0.8676\n",
      "Epoch 70/100\n",
      "32/32 [==============================] - 0s 2ms/step - loss: 0.3284 - accuracy: 0.8822 - val_loss: 0.3389 - val_accuracy: 0.8676\n",
      "Epoch 71/100\n",
      "32/32 [==============================] - 0s 2ms/step - loss: 0.3305 - accuracy: 0.8714 - val_loss: 0.3360 - val_accuracy: 0.8676\n",
      "Epoch 72/100\n",
      "32/32 [==============================] - 0s 2ms/step - loss: 0.3296 - accuracy: 0.8724 - val_loss: 0.3357 - val_accuracy: 0.8630\n",
      "Epoch 73/100\n",
      "32/32 [==============================] - 0s 2ms/step - loss: 0.3082 - accuracy: 0.8932 - val_loss: 0.3328 - val_accuracy: 0.8676\n",
      "Epoch 74/100\n",
      "32/32 [==============================] - 0s 2ms/step - loss: 0.3100 - accuracy: 0.8888 - val_loss: 0.3299 - val_accuracy: 0.8721\n",
      "Epoch 75/100\n",
      "32/32 [==============================] - 0s 2ms/step - loss: 0.3261 - accuracy: 0.8750 - val_loss: 0.3285 - val_accuracy: 0.8721\n",
      "Epoch 76/100\n",
      "32/32 [==============================] - 0s 2ms/step - loss: 0.2945 - accuracy: 0.8831 - val_loss: 0.3277 - val_accuracy: 0.8721\n",
      "Epoch 77/100\n",
      "32/32 [==============================] - 0s 3ms/step - loss: 0.3175 - accuracy: 0.8736 - val_loss: 0.3271 - val_accuracy: 0.8721\n",
      "Epoch 78/100\n",
      "32/32 [==============================] - 0s 2ms/step - loss: 0.3091 - accuracy: 0.8784 - val_loss: 0.3281 - val_accuracy: 0.8676\n",
      "Epoch 79/100\n",
      "32/32 [==============================] - 0s 2ms/step - loss: 0.3004 - accuracy: 0.8828 - val_loss: 0.3251 - val_accuracy: 0.8721\n",
      "Epoch 80/100\n",
      "32/32 [==============================] - 0s 3ms/step - loss: 0.3114 - accuracy: 0.8826 - val_loss: 0.3245 - val_accuracy: 0.8721\n",
      "Epoch 81/100\n",
      "32/32 [==============================] - 0s 2ms/step - loss: 0.2890 - accuracy: 0.8833 - val_loss: 0.3234 - val_accuracy: 0.8721\n",
      "Epoch 82/100\n",
      "32/32 [==============================] - 0s 2ms/step - loss: 0.3005 - accuracy: 0.8836 - val_loss: 0.3222 - val_accuracy: 0.8721\n",
      "Epoch 83/100\n",
      "32/32 [==============================] - 0s 2ms/step - loss: 0.3014 - accuracy: 0.8786 - val_loss: 0.3203 - val_accuracy: 0.8721\n",
      "Epoch 84/100\n",
      "32/32 [==============================] - 0s 2ms/step - loss: 0.2898 - accuracy: 0.8781 - val_loss: 0.3206 - val_accuracy: 0.8721\n",
      "Epoch 85/100\n",
      "32/32 [==============================] - 0s 3ms/step - loss: 0.3053 - accuracy: 0.8801 - val_loss: 0.3181 - val_accuracy: 0.8767\n",
      "Epoch 86/100\n",
      "32/32 [==============================] - 0s 2ms/step - loss: 0.2856 - accuracy: 0.8857 - val_loss: 0.3181 - val_accuracy: 0.8676\n",
      "Epoch 87/100\n",
      "32/32 [==============================] - 0s 2ms/step - loss: 0.2880 - accuracy: 0.8853 - val_loss: 0.3174 - val_accuracy: 0.8676\n",
      "Epoch 88/100\n",
      "32/32 [==============================] - 0s 2ms/step - loss: 0.2953 - accuracy: 0.8810 - val_loss: 0.3163 - val_accuracy: 0.8721\n",
      "Epoch 89/100\n",
      "32/32 [==============================] - 0s 2ms/step - loss: 0.2950 - accuracy: 0.8758 - val_loss: 0.3164 - val_accuracy: 0.8721\n",
      "Epoch 90/100\n",
      "32/32 [==============================] - 0s 3ms/step - loss: 0.2845 - accuracy: 0.8809 - val_loss: 0.3147 - val_accuracy: 0.8721\n",
      "Epoch 91/100\n",
      "32/32 [==============================] - 0s 2ms/step - loss: 0.3035 - accuracy: 0.8779 - val_loss: 0.3136 - val_accuracy: 0.8721\n",
      "Epoch 92/100\n",
      "32/32 [==============================] - 0s 2ms/step - loss: 0.2994 - accuracy: 0.8731 - val_loss: 0.3132 - val_accuracy: 0.8721\n",
      "Epoch 93/100\n",
      "32/32 [==============================] - 0s 2ms/step - loss: 0.2987 - accuracy: 0.8720 - val_loss: 0.3129 - val_accuracy: 0.8721\n",
      "Epoch 94/100\n",
      "32/32 [==============================] - 0s 2ms/step - loss: 0.2828 - accuracy: 0.8880 - val_loss: 0.3140 - val_accuracy: 0.8858\n",
      "Epoch 95/100\n",
      "32/32 [==============================] - 0s 2ms/step - loss: 0.2966 - accuracy: 0.8857 - val_loss: 0.3139 - val_accuracy: 0.8813\n",
      "Epoch 96/100\n",
      "32/32 [==============================] - 0s 2ms/step - loss: 0.2696 - accuracy: 0.8937 - val_loss: 0.3107 - val_accuracy: 0.8767\n",
      "Epoch 97/100\n",
      "32/32 [==============================] - 0s 3ms/step - loss: 0.2653 - accuracy: 0.8951 - val_loss: 0.3110 - val_accuracy: 0.8813\n",
      "Epoch 98/100\n",
      "32/32 [==============================] - 0s 2ms/step - loss: 0.2871 - accuracy: 0.8718 - val_loss: 0.3116 - val_accuracy: 0.8858\n",
      "Epoch 99/100\n",
      "32/32 [==============================] - 0s 2ms/step - loss: 0.2760 - accuracy: 0.8863 - val_loss: 0.3091 - val_accuracy: 0.8767\n",
      "Epoch 100/100\n",
      "32/32 [==============================] - 0s 2ms/step - loss: 0.3008 - accuracy: 0.8744 - val_loss: 0.3086 - val_accuracy: 0.8813\n"
     ]
    }
   ],
   "source": [
    "hist = model.fit(X_train, Y_train,\n",
    "          batch_size=32, epochs=100,\n",
    "          validation_data=(X_val, Y_val))"
   ]
  },
  {
   "cell_type": "markdown",
   "metadata": {
    "id": "oGccNU6pa2KR"
   },
   "source": [
    "You can now see that the model is training! By looking at the numbers, you should be able to see the loss decrease and the accuracy increase over time. At this point, you can experiment with the hyper-parameters and neural network architecture. Run the cells again to see how your training has changed when you’ve tweaked your hyperparameters.\n",
    "\n",
    "Once you’re happy with your final model, we can evaluate it on the test set. To find the accuracy on our test set, we run this code snippet"
   ]
  },
  {
   "cell_type": "code",
   "execution_count": 21,
   "metadata": {
    "colab": {
     "base_uri": "https://localhost:8080/"
    },
    "id": "LmV5Ws_8a2KR",
    "outputId": "37dfb39d-86f4-41a1-995d-8c819712cb9a"
   },
   "outputs": [
    {
     "name": "stdout",
     "output_type": "stream",
     "text": [
      "7/7 [==============================] - 0s 2ms/step - loss: 0.2949 - accuracy: 0.8858\n"
     ]
    },
    {
     "data": {
      "text/plain": [
       "0.8858447670936584"
      ]
     },
     "execution_count": 21,
     "metadata": {
      "tags": []
     },
     "output_type": "execute_result"
    }
   ],
   "source": [
    "model.evaluate(X_test, Y_test)[1]"
   ]
  },
  {
   "cell_type": "markdown",
   "metadata": {
    "id": "g2wU57Noa2KS"
   },
   "source": [
    "The reason why we have the index 1 after the model.evaluate function is because the function returns the loss as the first element and the accuracy as the second element. To only output the accuracy, simply access the second element (which is indexed by 1, since the first element starts its indexing from 0).\n",
    "\n",
    "Due to the randomness in how we have split the dataset as well as the initialization of the weights, the numbers and graph will differ slightly each time we run our notebook. Nevertheless, you should get a test accuracy anywhere between 80% to 95% if you’ve followed the architecture I specified above!"
   ]
  },
  {
   "cell_type": "markdown",
   "metadata": {
    "id": "bW0z1bh5a2KS"
   },
   "source": [
    "# Visualizing Loss and Accuracy"
   ]
  },
  {
   "cell_type": "markdown",
   "metadata": {
    "id": "mCsxFUNua2KS"
   },
   "source": [
    "How do we know if our model is currently overfitting?\n",
    "\n",
    "What we might want to do is to plot the training loss and the val loss over the number of epochs passed. To display some nice graphs, we will use the package matplotlib. As usual, we have to import the code we wish to use\n",
    "\n"
   ]
  },
  {
   "cell_type": "code",
   "execution_count": 22,
   "metadata": {
    "id": "GWkINe7ya2KS"
   },
   "outputs": [],
   "source": [
    "import matplotlib.pyplot as plt"
   ]
  },
  {
   "cell_type": "markdown",
   "metadata": {
    "id": "rhaBujOwa2KS"
   },
   "source": [
    "Then, we want to visualize the training loss and the validation loss. To do so, run this snippet of code"
   ]
  },
  {
   "cell_type": "code",
   "execution_count": 23,
   "metadata": {
    "colab": {
     "base_uri": "https://localhost:8080/",
     "height": 295
    },
    "id": "H41xhLRYa2KT",
    "outputId": "a2f9ffa2-2fef-4ed3-ecf4-64bc986d5f1d"
   },
   "outputs": [
    {
     "data": {
      "image/png": "[encoded data removed]",
      "text/plain": [
       "<Figure size 432x288 with 1 Axes>"
      ]
     },
     "metadata": {
      "needs_background": "light",
      "tags": []
     },
     "output_type": "display_data"
    }
   ],
   "source": [
    "plt.plot(hist.history['loss'])\n",
    "plt.plot(hist.history['val_loss'])\n",
    "plt.title('Model loss')\n",
    "plt.ylabel('Loss')\n",
    "plt.xlabel('Epoch')\n",
    "plt.legend(['Train', 'Val'], loc='upper right')\n",
    "plt.show()"
   ]
  },
  {
   "cell_type": "markdown",
   "metadata": {
    "id": "R0sp1EZva2KT"
   },
   "source": [
    "We can also visualize the training accuracy and the validation accuracy like this"
   ]
  },
  {
   "cell_type": "code",
   "execution_count": 24,
   "metadata": {
    "colab": {
     "base_uri": "https://localhost:8080/",
     "height": 295
    },
    "id": "K6vmms7Pa2KU",
    "outputId": "af08fb2d-f688-4923-f9c0-68d702e8c5d7"
   },
   "outputs": [
    {
     "data": {
      "image/png": "[encoded data removed]",
      "text/plain": [
       "<Figure size 432x288 with 1 Axes>"
      ]
     },
     "metadata": {
      "needs_background": "light",
      "tags": []
     },
     "output_type": "display_data"
    }
   ],
   "source": [
    "plt.plot(hist.history['accuracy'])\n",
    "plt.plot(hist.history['val_accuracy'])\n",
    "plt.title('Model accuracy')\n",
    "plt.ylabel('Accuracy')\n",
    "plt.xlabel('Epoch')\n",
    "plt.legend(['Train', 'Val'], loc='lower right')\n",
    "plt.show()"
   ]
  },
  {
   "cell_type": "markdown",
   "metadata": {
    "id": "fkF6EqmKa2KU"
   },
   "source": [
    "as you can see the model is not over fit. \n",
    "\n",
    "the primary aim of machine learning model is to learn general concepts from the input data. then this general concept will be used to classify a new dataset as per the general concept learned from the model. \n",
    "\n",
    "if the model learns in detail about each specific training data, then the model can accuratly classify the training data but the model will have very low accuracy on the validation data or any data outside of the training input.\n",
    "\n",
    "ploting the graph of accuracy and loss will show us whether our data is over fit or not. \n",
    "\n",
    "\n",
    "in our graph above we can see that the model is working fairly well for both the training data and validation data.\n",
    "thus we can say that it is a good model. \n",
    "\n",
    "\n",
    "if you want to learn about model overfitting and underfitting, here is a link to definitions and examples \n",
    "https://en.wikipedia.org/wiki/Overfitting  "
   ]
  },
  {
   "cell_type": "markdown",
   "metadata": {
    "id": "hUTiai56a2KV"
   },
   "source": [
    "# Example of overfit model"
   ]
  },
  {
   "cell_type": "markdown",
   "metadata": {
    "id": "X2pWGOqwa2KV"
   },
   "source": [
    "now lets add more hidden layers with a 1000 neurons each to our data so that it will learn details about our training data and see how it will perform on the validating data \n",
    "\n",
    "\n",
    "we will use the same dataset as before but we will change our model structure as follows, \n",
    " lets call the new model 'model_2':\n"
   ]
  },
  {
   "cell_type": "code",
   "execution_count": 25,
   "metadata": {
    "colab": {
     "base_uri": "https://localhost:8080/"
    },
    "id": "RKFQaT6Ua2KV",
    "outputId": "4fa2ecbe-42b4-4f99-9eab-e84c98f7592f"
   },
   "outputs": [
    {
     "name": "stdout",
     "output_type": "stream",
     "text": [
      "Epoch 1/100\n",
      "32/32 [==============================] - 2s 38ms/step - loss: 0.5477 - accuracy: 0.7004 - val_loss: 0.3450 - val_accuracy: 0.8676\n",
      "Epoch 2/100\n",
      "32/32 [==============================] - 1s 32ms/step - loss: 0.3059 - accuracy: 0.8666 - val_loss: 0.3235 - val_accuracy: 0.8950\n",
      "Epoch 3/100\n",
      "32/32 [==============================] - 1s 32ms/step - loss: 0.2748 - accuracy: 0.8847 - val_loss: 0.4182 - val_accuracy: 0.8676\n",
      "Epoch 4/100\n",
      "32/32 [==============================] - 1s 33ms/step - loss: 0.2812 - accuracy: 0.8760 - val_loss: 0.3238 - val_accuracy: 0.8813\n",
      "Epoch 5/100\n",
      "32/32 [==============================] - 1s 32ms/step - loss: 0.2638 - accuracy: 0.8736 - val_loss: 0.3674 - val_accuracy: 0.8128\n",
      "Epoch 6/100\n",
      "32/32 [==============================] - 1s 33ms/step - loss: 0.2995 - accuracy: 0.8712 - val_loss: 0.2960 - val_accuracy: 0.9041\n",
      "Epoch 7/100\n",
      "32/32 [==============================] - 1s 33ms/step - loss: 0.2226 - accuracy: 0.9053 - val_loss: 0.4335 - val_accuracy: 0.8447\n",
      "Epoch 8/100\n",
      "32/32 [==============================] - 1s 32ms/step - loss: 0.2450 - accuracy: 0.8811 - val_loss: 0.3654 - val_accuracy: 0.8950\n",
      "Epoch 9/100\n",
      "32/32 [==============================] - 1s 32ms/step - loss: 0.2138 - accuracy: 0.9008 - val_loss: 0.3653 - val_accuracy: 0.8950\n",
      "Epoch 10/100\n",
      "32/32 [==============================] - 1s 33ms/step - loss: 0.2185 - accuracy: 0.9145 - val_loss: 0.3254 - val_accuracy: 0.9087\n",
      "Epoch 11/100\n",
      "32/32 [==============================] - 1s 32ms/step - loss: 0.1853 - accuracy: 0.9160 - val_loss: 0.3324 - val_accuracy: 0.8904\n",
      "Epoch 12/100\n",
      "32/32 [==============================] - 1s 33ms/step - loss: 0.2273 - accuracy: 0.8963 - val_loss: 0.4530 - val_accuracy: 0.8630\n",
      "Epoch 13/100\n",
      "32/32 [==============================] - 1s 32ms/step - loss: 0.2117 - accuracy: 0.9001 - val_loss: 0.3614 - val_accuracy: 0.8904\n",
      "Epoch 14/100\n",
      "32/32 [==============================] - 1s 33ms/step - loss: 0.2025 - accuracy: 0.9016 - val_loss: 0.4163 - val_accuracy: 0.8950\n",
      "Epoch 15/100\n",
      "32/32 [==============================] - 1s 33ms/step - loss: 0.2109 - accuracy: 0.9227 - val_loss: 0.3329 - val_accuracy: 0.9132\n",
      "Epoch 16/100\n",
      "32/32 [==============================] - 1s 32ms/step - loss: 0.1930 - accuracy: 0.9311 - val_loss: 0.3755 - val_accuracy: 0.8950\n",
      "Epoch 17/100\n",
      "32/32 [==============================] - 1s 33ms/step - loss: 0.1920 - accuracy: 0.9205 - val_loss: 0.3227 - val_accuracy: 0.8904\n",
      "Epoch 18/100\n",
      "32/32 [==============================] - 1s 33ms/step - loss: 0.2055 - accuracy: 0.9134 - val_loss: 0.4207 - val_accuracy: 0.8813\n",
      "Epoch 19/100\n",
      "32/32 [==============================] - 1s 33ms/step - loss: 0.1893 - accuracy: 0.9257 - val_loss: 0.4238 - val_accuracy: 0.8219\n",
      "Epoch 20/100\n",
      "32/32 [==============================] - 1s 33ms/step - loss: 0.2156 - accuracy: 0.9046 - val_loss: 0.4193 - val_accuracy: 0.8858\n",
      "Epoch 21/100\n",
      "32/32 [==============================] - 1s 33ms/step - loss: 0.1749 - accuracy: 0.9216 - val_loss: 0.3967 - val_accuracy: 0.8950\n",
      "Epoch 22/100\n",
      "32/32 [==============================] - 1s 33ms/step - loss: 0.1762 - accuracy: 0.9196 - val_loss: 0.3527 - val_accuracy: 0.8950\n",
      "Epoch 23/100\n",
      "32/32 [==============================] - 1s 34ms/step - loss: 0.1869 - accuracy: 0.9256 - val_loss: 0.3583 - val_accuracy: 0.8904\n",
      "Epoch 24/100\n",
      "32/32 [==============================] - 1s 33ms/step - loss: 0.1871 - accuracy: 0.9256 - val_loss: 0.3650 - val_accuracy: 0.8995\n",
      "Epoch 25/100\n",
      "32/32 [==============================] - 1s 33ms/step - loss: 0.1466 - accuracy: 0.9332 - val_loss: 0.3770 - val_accuracy: 0.9041\n",
      "Epoch 26/100\n",
      "32/32 [==============================] - 1s 33ms/step - loss: 0.1946 - accuracy: 0.9241 - val_loss: 0.3610 - val_accuracy: 0.8721\n",
      "Epoch 27/100\n",
      "32/32 [==============================] - 1s 33ms/step - loss: 0.1819 - accuracy: 0.9163 - val_loss: 0.4492 - val_accuracy: 0.8813\n",
      "Epoch 28/100\n",
      "32/32 [==============================] - 1s 33ms/step - loss: 0.1517 - accuracy: 0.9244 - val_loss: 0.3710 - val_accuracy: 0.8767\n",
      "Epoch 29/100\n",
      "32/32 [==============================] - 1s 33ms/step - loss: 0.1852 - accuracy: 0.9148 - val_loss: 0.4313 - val_accuracy: 0.8767\n",
      "Epoch 30/100\n",
      "32/32 [==============================] - 1s 33ms/step - loss: 0.1650 - accuracy: 0.9296 - val_loss: 0.4018 - val_accuracy: 0.8676\n",
      "Epoch 31/100\n",
      "32/32 [==============================] - 1s 33ms/step - loss: 0.1596 - accuracy: 0.9306 - val_loss: 0.4355 - val_accuracy: 0.8858\n",
      "Epoch 32/100\n",
      "32/32 [==============================] - 1s 33ms/step - loss: 0.2003 - accuracy: 0.9026 - val_loss: 0.3979 - val_accuracy: 0.8995\n",
      "Epoch 33/100\n",
      "32/32 [==============================] - 1s 33ms/step - loss: 0.1571 - accuracy: 0.9353 - val_loss: 0.3090 - val_accuracy: 0.8950\n",
      "Epoch 34/100\n",
      "32/32 [==============================] - 1s 34ms/step - loss: 0.1959 - accuracy: 0.9206 - val_loss: 0.4450 - val_accuracy: 0.8584\n",
      "Epoch 35/100\n",
      "32/32 [==============================] - 1s 34ms/step - loss: 0.1939 - accuracy: 0.9151 - val_loss: 0.3663 - val_accuracy: 0.9178\n",
      "Epoch 36/100\n",
      "32/32 [==============================] - 1s 33ms/step - loss: 0.1788 - accuracy: 0.9235 - val_loss: 0.4972 - val_accuracy: 0.8676\n",
      "Epoch 37/100\n",
      "32/32 [==============================] - 1s 33ms/step - loss: 0.1857 - accuracy: 0.9228 - val_loss: 0.4544 - val_accuracy: 0.8995\n",
      "Epoch 38/100\n",
      "32/32 [==============================] - 1s 33ms/step - loss: 0.1657 - accuracy: 0.9334 - val_loss: 0.3702 - val_accuracy: 0.8995\n",
      "Epoch 39/100\n",
      "32/32 [==============================] - 1s 33ms/step - loss: 0.1622 - accuracy: 0.9292 - val_loss: 0.4753 - val_accuracy: 0.8813\n",
      "Epoch 40/100\n",
      "32/32 [==============================] - 1s 33ms/step - loss: 0.1531 - accuracy: 0.9330 - val_loss: 0.4740 - val_accuracy: 0.8950\n",
      "Epoch 41/100\n",
      "32/32 [==============================] - 1s 33ms/step - loss: 0.1767 - accuracy: 0.9339 - val_loss: 0.3659 - val_accuracy: 0.9041\n",
      "Epoch 42/100\n",
      "32/32 [==============================] - 1s 33ms/step - loss: 0.1592 - accuracy: 0.9402 - val_loss: 0.3665 - val_accuracy: 0.8995\n",
      "Epoch 43/100\n",
      "32/32 [==============================] - 1s 33ms/step - loss: 0.1653 - accuracy: 0.9223 - val_loss: 0.3716 - val_accuracy: 0.8813\n",
      "Epoch 44/100\n",
      "32/32 [==============================] - 1s 33ms/step - loss: 0.1585 - accuracy: 0.9347 - val_loss: 0.3831 - val_accuracy: 0.8950\n",
      "Epoch 45/100\n",
      "32/32 [==============================] - 1s 33ms/step - loss: 0.1697 - accuracy: 0.9313 - val_loss: 0.4282 - val_accuracy: 0.8813\n",
      "Epoch 46/100\n",
      "32/32 [==============================] - 1s 33ms/step - loss: 0.1754 - accuracy: 0.9240 - val_loss: 0.5756 - val_accuracy: 0.8995\n",
      "Epoch 47/100\n",
      "32/32 [==============================] - 1s 33ms/step - loss: 0.1710 - accuracy: 0.9366 - val_loss: 0.3903 - val_accuracy: 0.8813\n",
      "Epoch 48/100\n",
      "32/32 [==============================] - 1s 34ms/step - loss: 0.1394 - accuracy: 0.9469 - val_loss: 0.5386 - val_accuracy: 0.8904\n",
      "Epoch 49/100\n",
      "32/32 [==============================] - 1s 33ms/step - loss: 0.1345 - accuracy: 0.9414 - val_loss: 0.3803 - val_accuracy: 0.8995\n",
      "Epoch 50/100\n",
      "32/32 [==============================] - 1s 33ms/step - loss: 0.1834 - accuracy: 0.9194 - val_loss: 0.3365 - val_accuracy: 0.9087\n",
      "Epoch 51/100\n",
      "32/32 [==============================] - 1s 33ms/step - loss: 0.1853 - accuracy: 0.9295 - val_loss: 0.4819 - val_accuracy: 0.8904\n",
      "Epoch 52/100\n",
      "32/32 [==============================] - 1s 34ms/step - loss: 0.1381 - accuracy: 0.9478 - val_loss: 0.3847 - val_accuracy: 0.8995\n",
      "Epoch 53/100\n",
      "32/32 [==============================] - 1s 33ms/step - loss: 0.1579 - accuracy: 0.9326 - val_loss: 0.4610 - val_accuracy: 0.8995\n",
      "Epoch 54/100\n",
      "32/32 [==============================] - 1s 34ms/step - loss: 0.1477 - accuracy: 0.9419 - val_loss: 0.5059 - val_accuracy: 0.8858\n",
      "Epoch 55/100\n",
      "32/32 [==============================] - 1s 33ms/step - loss: 0.1447 - accuracy: 0.9345 - val_loss: 0.5254 - val_accuracy: 0.8767\n",
      "Epoch 56/100\n",
      "32/32 [==============================] - 1s 33ms/step - loss: 0.1587 - accuracy: 0.9440 - val_loss: 0.5112 - val_accuracy: 0.8813\n",
      "Epoch 57/100\n",
      "32/32 [==============================] - 1s 33ms/step - loss: 0.1368 - accuracy: 0.9472 - val_loss: 0.4569 - val_accuracy: 0.9041\n",
      "Epoch 58/100\n",
      "32/32 [==============================] - 1s 33ms/step - loss: 0.1432 - accuracy: 0.9373 - val_loss: 0.6704 - val_accuracy: 0.8402\n",
      "Epoch 59/100\n",
      "32/32 [==============================] - 1s 33ms/step - loss: 0.2578 - accuracy: 0.8945 - val_loss: 0.3757 - val_accuracy: 0.8767\n",
      "Epoch 60/100\n",
      "32/32 [==============================] - 1s 33ms/step - loss: 0.1549 - accuracy: 0.9416 - val_loss: 0.3673 - val_accuracy: 0.8950\n",
      "Epoch 61/100\n",
      "32/32 [==============================] - 1s 33ms/step - loss: 0.1427 - accuracy: 0.9380 - val_loss: 0.3747 - val_accuracy: 0.9041\n",
      "Epoch 62/100\n",
      "32/32 [==============================] - 1s 34ms/step - loss: 0.1430 - accuracy: 0.9415 - val_loss: 0.4520 - val_accuracy: 0.8950\n",
      "Epoch 63/100\n",
      "32/32 [==============================] - 1s 33ms/step - loss: 0.1427 - accuracy: 0.9276 - val_loss: 0.4795 - val_accuracy: 0.8950\n",
      "Epoch 64/100\n",
      "32/32 [==============================] - 1s 32ms/step - loss: 0.1502 - accuracy: 0.9393 - val_loss: 0.3142 - val_accuracy: 0.9132\n",
      "Epoch 65/100\n",
      "32/32 [==============================] - 1s 32ms/step - loss: 0.1562 - accuracy: 0.9285 - val_loss: 0.4292 - val_accuracy: 0.8813\n",
      "Epoch 66/100\n",
      "32/32 [==============================] - 1s 32ms/step - loss: 0.1386 - accuracy: 0.9435 - val_loss: 0.3598 - val_accuracy: 0.8767\n",
      "Epoch 67/100\n",
      "32/32 [==============================] - 1s 32ms/step - loss: 0.1792 - accuracy: 0.9255 - val_loss: 0.4623 - val_accuracy: 0.8950\n",
      "Epoch 68/100\n",
      "32/32 [==============================] - 1s 32ms/step - loss: 0.1298 - accuracy: 0.9415 - val_loss: 0.5082 - val_accuracy: 0.8767\n",
      "Epoch 69/100\n",
      "32/32 [==============================] - 1s 32ms/step - loss: 0.1290 - accuracy: 0.9332 - val_loss: 0.4870 - val_accuracy: 0.8813\n",
      "Epoch 70/100\n",
      "32/32 [==============================] - 1s 32ms/step - loss: 0.1285 - accuracy: 0.9355 - val_loss: 0.4837 - val_accuracy: 0.8858\n",
      "Epoch 71/100\n",
      "32/32 [==============================] - 1s 32ms/step - loss: 0.1323 - accuracy: 0.9385 - val_loss: 0.5299 - val_accuracy: 0.8995\n",
      "Epoch 72/100\n",
      "32/32 [==============================] - 1s 33ms/step - loss: 0.1150 - accuracy: 0.9491 - val_loss: 0.5581 - val_accuracy: 0.8767\n",
      "Epoch 73/100\n",
      "32/32 [==============================] - 1s 33ms/step - loss: 0.1284 - accuracy: 0.9466 - val_loss: 0.5252 - val_accuracy: 0.8767\n",
      "Epoch 74/100\n",
      "32/32 [==============================] - 1s 32ms/step - loss: 0.1251 - accuracy: 0.9514 - val_loss: 0.2666 - val_accuracy: 0.8950\n",
      "Epoch 75/100\n",
      "32/32 [==============================] - 1s 32ms/step - loss: 0.1482 - accuracy: 0.9345 - val_loss: 0.4067 - val_accuracy: 0.8904\n",
      "Epoch 76/100\n",
      "32/32 [==============================] - 1s 32ms/step - loss: 0.1903 - accuracy: 0.9082 - val_loss: 0.4300 - val_accuracy: 0.9087\n",
      "Epoch 77/100\n",
      "32/32 [==============================] - 1s 33ms/step - loss: 0.1591 - accuracy: 0.9333 - val_loss: 0.4040 - val_accuracy: 0.8950\n",
      "Epoch 78/100\n",
      "32/32 [==============================] - 1s 33ms/step - loss: 0.1165 - accuracy: 0.9526 - val_loss: 0.5509 - val_accuracy: 0.8721\n",
      "Epoch 79/100\n",
      "32/32 [==============================] - 1s 33ms/step - loss: 0.1229 - accuracy: 0.9436 - val_loss: 0.5108 - val_accuracy: 0.8676\n",
      "Epoch 80/100\n",
      "32/32 [==============================] - 1s 32ms/step - loss: 0.1459 - accuracy: 0.9265 - val_loss: 0.4040 - val_accuracy: 0.8721\n",
      "Epoch 81/100\n",
      "32/32 [==============================] - 1s 32ms/step - loss: 0.1202 - accuracy: 0.9493 - val_loss: 0.5654 - val_accuracy: 0.8813\n",
      "Epoch 82/100\n",
      "32/32 [==============================] - 1s 33ms/step - loss: 0.1110 - accuracy: 0.9422 - val_loss: 0.6240 - val_accuracy: 0.8721\n",
      "Epoch 83/100\n",
      "32/32 [==============================] - 1s 32ms/step - loss: 0.1241 - accuracy: 0.9520 - val_loss: 0.7101 - val_accuracy: 0.8950\n",
      "Epoch 84/100\n",
      "32/32 [==============================] - 1s 33ms/step - loss: 0.1263 - accuracy: 0.9483 - val_loss: 0.7279 - val_accuracy: 0.8584\n",
      "Epoch 85/100\n",
      "32/32 [==============================] - 1s 32ms/step - loss: 0.1996 - accuracy: 0.9236 - val_loss: 0.5028 - val_accuracy: 0.8904\n",
      "Epoch 86/100\n",
      "32/32 [==============================] - 1s 32ms/step - loss: 0.1246 - accuracy: 0.9418 - val_loss: 0.5357 - val_accuracy: 0.8813\n",
      "Epoch 87/100\n",
      "32/32 [==============================] - 1s 33ms/step - loss: 0.1761 - accuracy: 0.9187 - val_loss: 0.5860 - val_accuracy: 0.8904\n",
      "Epoch 88/100\n",
      "32/32 [==============================] - 1s 32ms/step - loss: 0.1420 - accuracy: 0.9320 - val_loss: 0.5020 - val_accuracy: 0.8767\n",
      "Epoch 89/100\n",
      "32/32 [==============================] - 1s 31ms/step - loss: 0.1046 - accuracy: 0.9573 - val_loss: 0.4055 - val_accuracy: 0.8950\n",
      "Epoch 90/100\n",
      "32/32 [==============================] - 1s 32ms/step - loss: 0.1264 - accuracy: 0.9474 - val_loss: 0.3225 - val_accuracy: 0.8721\n",
      "Epoch 91/100\n",
      "32/32 [==============================] - 1s 32ms/step - loss: 0.1227 - accuracy: 0.9404 - val_loss: 0.5624 - val_accuracy: 0.8995\n",
      "Epoch 92/100\n",
      "32/32 [==============================] - 1s 32ms/step - loss: 0.0949 - accuracy: 0.9662 - val_loss: 0.5297 - val_accuracy: 0.8995\n",
      "Epoch 93/100\n",
      "32/32 [==============================] - 1s 32ms/step - loss: 0.1047 - accuracy: 0.9554 - val_loss: 0.5113 - val_accuracy: 0.8767\n",
      "Epoch 94/100\n",
      "32/32 [==============================] - 1s 33ms/step - loss: 0.1289 - accuracy: 0.9530 - val_loss: 0.4616 - val_accuracy: 0.8950\n",
      "Epoch 95/100\n",
      "32/32 [==============================] - 1s 32ms/step - loss: 0.1145 - accuracy: 0.9538 - val_loss: 0.4681 - val_accuracy: 0.8721\n",
      "Epoch 96/100\n",
      "32/32 [==============================] - 1s 32ms/step - loss: 0.1118 - accuracy: 0.9524 - val_loss: 0.6274 - val_accuracy: 0.8630\n",
      "Epoch 97/100\n",
      "32/32 [==============================] - 1s 32ms/step - loss: 0.1151 - accuracy: 0.9395 - val_loss: 0.6021 - val_accuracy: 0.8813\n",
      "Epoch 98/100\n",
      "32/32 [==============================] - 1s 33ms/step - loss: 0.0866 - accuracy: 0.9669 - val_loss: 0.4936 - val_accuracy: 0.8858\n",
      "Epoch 99/100\n",
      "32/32 [==============================] - 1s 33ms/step - loss: 0.0818 - accuracy: 0.9680 - val_loss: 0.5822 - val_accuracy: 0.8676\n",
      "Epoch 100/100\n",
      "32/32 [==============================] - 1s 32ms/step - loss: 0.0855 - accuracy: 0.9629 - val_loss: 0.8260 - val_accuracy: 0.8813\n"
     ]
    }
   ],
   "source": [
    "model_2 = Sequential([\n",
    "    Dense(1000, activation='relu', input_shape=(10,)),\n",
    "    Dense(1000, activation='relu'),\n",
    "    Dense(1000, activation='relu'),\n",
    "    Dense(1000, activation='relu'),\n",
    "    Dense(1, activation='sigmoid'),\n",
    "])\n",
    "model_2.compile(optimizer='adam',\n",
    "              loss='binary_crossentropy',\n",
    "              metrics=['accuracy'])\n",
    "hist_2 = model_2.fit(X_train, Y_train,\n",
    "          batch_size=32, epochs=100,\n",
    "          validation_data=(X_val, Y_val))"
   ]
  },
  {
   "cell_type": "code",
   "execution_count": 26,
   "metadata": {
    "colab": {
     "base_uri": "https://localhost:8080/",
     "height": 295
    },
    "id": "focNaSAta2KV",
    "outputId": "f367a06a-c329-4815-a498-dc1bbbc2d8f2",
    "scrolled": true
   },
   "outputs": [
    {
     "data": {
      "image/png": "[encoded data removed]",
      "text/plain": [
       "<Figure size 432x288 with 1 Axes>"
      ]
     },
     "metadata": {
      "needs_background": "light",
      "tags": []
     },
     "output_type": "display_data"
    }
   ],
   "source": [
    "plt.plot(hist_2.history['loss'])\n",
    "plt.plot(hist_2.history['val_loss'])\n",
    "plt.title('Model loss')\n",
    "plt.ylabel('Loss')\n",
    "plt.xlabel('Epoch')\n",
    "plt.legend(['Train', 'Val'], loc='upper right')\n",
    "plt.show()"
   ]
  },
  {
   "cell_type": "markdown",
   "metadata": {
    "id": "Vy3Cw_6Fa2KW"
   },
   "source": [
    "as you can see from the plot, the model learns detail concepts of the training data and the loss on the training is closer to zero, however, when you look at the loss on the validation, the model doesn't do well. this is the sign of overfitting model. "
   ]
  },
  {
   "cell_type": "code",
   "execution_count": 27,
   "metadata": {
    "colab": {
     "base_uri": "https://localhost:8080/",
     "height": 295
    },
    "id": "YLklS-_Ha2KW",
    "outputId": "8ba6589b-46b3-4373-8f1a-185074571e07"
   },
   "outputs": [
    {
     "data": {
      "image/png": "[encoded data removed]",
      "text/plain": [
       "<Figure size 432x288 with 1 Axes>"
      ]
     },
     "metadata": {
      "needs_background": "light",
      "tags": []
     },
     "output_type": "display_data"
    }
   ],
   "source": [
    "plt.plot(hist_2.history['accuracy'])\n",
    "plt.plot(hist_2.history['val_accuracy'])\n",
    "plt.title('Model accuracy')\n",
    "plt.ylabel('Accuracy')\n",
    "plt.xlabel('Epoch')\n",
    "plt.legend(['Train', 'Val'], loc='lower right')\n",
    "plt.show()"
   ]
  },
  {
   "cell_type": "markdown",
   "metadata": {
    "id": "gfTkksMMa2KW"
   },
   "source": [
    "also looking at the accuracy graph tells us the model accuracy on the training is almost close to 1, however the model accuracy on the validation doesn't seem to move after the 10th epoch. this is again a sign of overfitting model"
   ]
  },
  {
   "cell_type": "markdown",
   "metadata": {
    "id": "rW_1mdHna2KW"
   },
   "source": [
    "# How to mitigate Overfiting model"
   ]
  },
  {
   "cell_type": "markdown",
   "metadata": {
    "id": "SgU7yAyBa2KX"
   },
   "source": [
    "To address the overfitting we saw in Model 2, we'll incorporate L2 regularization and dropout in our third model here (Model 3)"
   ]
  },
  {
   "cell_type": "code",
   "execution_count": 28,
   "metadata": {
    "id": "57N6sVxna2KX"
   },
   "outputs": [],
   "source": [
    "from keras.layers import Dropout\n",
    "from keras import regularizers"
   ]
  },
  {
   "cell_type": "code",
   "execution_count": 29,
   "metadata": {
    "id": "2HTWow7Ua2KX"
   },
   "outputs": [],
   "source": [
    "model_3 = Sequential([\n",
    "    Dense(1000, activation='relu', kernel_regularizer=regularizers.l2(0.01), input_shape=(10,)),\n",
    "    Dropout(0.3),\n",
    "    Dense(1000, activation='relu', kernel_regularizer=regularizers.l2(0.01)),\n",
    "    Dropout(0.3),\n",
    "    Dense(1000, activation='relu', kernel_regularizer=regularizers.l2(0.01)),\n",
    "    Dropout(0.3),\n",
    "    Dense(1000, activation='relu', kernel_regularizer=regularizers.l2(0.01)),\n",
    "    Dropout(0.3),\n",
    "    Dense(1, activation='sigmoid', kernel_regularizer=regularizers.l2(0.01)),\n",
    "])"
   ]
  },
  {
   "cell_type": "code",
   "execution_count": 30,
   "metadata": {
    "colab": {
     "base_uri": "https://localhost:8080/"
    },
    "id": "oxfb3EHfa2KX",
    "outputId": "928256d6-bbfc-4323-9ad5-6840e53f63df"
   },
   "outputs": [
    {
     "name": "stdout",
     "output_type": "stream",
     "text": [
      "Epoch 1/100\n",
      "32/32 [==============================] - 2s 46ms/step - loss: 21.1141 - accuracy: 0.5334 - val_loss: 3.9347 - val_accuracy: 0.7580\n",
      "Epoch 2/100\n",
      "32/32 [==============================] - 1s 40ms/step - loss: 2.5101 - accuracy: 0.8271 - val_loss: 0.6660 - val_accuracy: 0.8767\n",
      "Epoch 3/100\n",
      "32/32 [==============================] - 1s 41ms/step - loss: 0.5921 - accuracy: 0.8739 - val_loss: 0.6214 - val_accuracy: 0.8174\n",
      "Epoch 4/100\n",
      "32/32 [==============================] - 1s 41ms/step - loss: 0.5652 - accuracy: 0.8481 - val_loss: 0.5871 - val_accuracy: 0.8311\n",
      "Epoch 5/100\n",
      "32/32 [==============================] - 1s 41ms/step - loss: 0.4961 - accuracy: 0.8542 - val_loss: 0.4788 - val_accuracy: 0.8813\n",
      "Epoch 6/100\n",
      "32/32 [==============================] - 1s 40ms/step - loss: 0.4535 - accuracy: 0.8920 - val_loss: 0.5613 - val_accuracy: 0.8265\n",
      "Epoch 7/100\n",
      "32/32 [==============================] - 1s 42ms/step - loss: 0.4824 - accuracy: 0.8708 - val_loss: 0.5603 - val_accuracy: 0.8311\n",
      "Epoch 8/100\n",
      "32/32 [==============================] - 1s 40ms/step - loss: 0.4945 - accuracy: 0.8773 - val_loss: 0.4665 - val_accuracy: 0.9041\n",
      "Epoch 9/100\n",
      "32/32 [==============================] - 1s 40ms/step - loss: 0.4894 - accuracy: 0.8475 - val_loss: 0.5101 - val_accuracy: 0.8676\n",
      "Epoch 10/100\n",
      "32/32 [==============================] - 1s 40ms/step - loss: 0.4414 - accuracy: 0.8876 - val_loss: 0.5408 - val_accuracy: 0.8311\n",
      "Epoch 11/100\n",
      "32/32 [==============================] - 1s 40ms/step - loss: 0.4769 - accuracy: 0.8618 - val_loss: 0.5151 - val_accuracy: 0.8493\n",
      "Epoch 12/100\n",
      "32/32 [==============================] - 1s 40ms/step - loss: 0.4803 - accuracy: 0.8760 - val_loss: 0.5235 - val_accuracy: 0.8402\n",
      "Epoch 13/100\n",
      "32/32 [==============================] - 1s 41ms/step - loss: 0.4806 - accuracy: 0.8557 - val_loss: 0.4785 - val_accuracy: 0.8813\n",
      "Epoch 14/100\n",
      "32/32 [==============================] - 1s 40ms/step - loss: 0.4413 - accuracy: 0.8837 - val_loss: 0.4570 - val_accuracy: 0.8950\n",
      "Epoch 15/100\n",
      "32/32 [==============================] - 1s 40ms/step - loss: 0.4348 - accuracy: 0.8859 - val_loss: 0.4571 - val_accuracy: 0.8904\n",
      "Epoch 16/100\n",
      "32/32 [==============================] - 1s 40ms/step - loss: 0.4428 - accuracy: 0.8715 - val_loss: 0.4497 - val_accuracy: 0.9087\n",
      "Epoch 17/100\n",
      "32/32 [==============================] - 1s 40ms/step - loss: 0.4216 - accuracy: 0.9045 - val_loss: 0.4499 - val_accuracy: 0.8950\n",
      "Epoch 18/100\n",
      "32/32 [==============================] - 1s 41ms/step - loss: 0.4337 - accuracy: 0.8939 - val_loss: 0.4512 - val_accuracy: 0.8995\n",
      "Epoch 19/100\n",
      "32/32 [==============================] - 1s 42ms/step - loss: 0.4099 - accuracy: 0.9012 - val_loss: 0.4913 - val_accuracy: 0.8584\n",
      "Epoch 20/100\n",
      "32/32 [==============================] - 1s 40ms/step - loss: 0.4316 - accuracy: 0.8888 - val_loss: 0.4524 - val_accuracy: 0.8995\n",
      "Epoch 21/100\n",
      "32/32 [==============================] - 1s 41ms/step - loss: 0.4341 - accuracy: 0.8949 - val_loss: 0.5108 - val_accuracy: 0.8356\n",
      "Epoch 22/100\n",
      "32/32 [==============================] - 1s 40ms/step - loss: 0.4737 - accuracy: 0.8568 - val_loss: 0.4439 - val_accuracy: 0.9087\n",
      "Epoch 23/100\n",
      "32/32 [==============================] - 1s 40ms/step - loss: 0.4220 - accuracy: 0.8849 - val_loss: 0.4603 - val_accuracy: 0.8813\n",
      "Epoch 24/100\n",
      "32/32 [==============================] - 1s 40ms/step - loss: 0.4412 - accuracy: 0.8736 - val_loss: 0.4609 - val_accuracy: 0.8950\n",
      "Epoch 25/100\n",
      "32/32 [==============================] - 1s 40ms/step - loss: 0.4170 - accuracy: 0.9081 - val_loss: 0.4544 - val_accuracy: 0.8904\n",
      "Epoch 26/100\n",
      "32/32 [==============================] - 1s 40ms/step - loss: 0.4206 - accuracy: 0.8958 - val_loss: 0.4684 - val_accuracy: 0.8721\n",
      "Epoch 27/100\n",
      "32/32 [==============================] - 1s 40ms/step - loss: 0.4166 - accuracy: 0.8880 - val_loss: 0.4592 - val_accuracy: 0.8858\n",
      "Epoch 28/100\n",
      "32/32 [==============================] - 1s 40ms/step - loss: 0.4398 - accuracy: 0.8874 - val_loss: 0.4715 - val_accuracy: 0.8584\n",
      "Epoch 29/100\n",
      "32/32 [==============================] - 1s 41ms/step - loss: 0.4451 - accuracy: 0.8865 - val_loss: 0.4760 - val_accuracy: 0.8584\n",
      "Epoch 30/100\n",
      "32/32 [==============================] - 1s 41ms/step - loss: 0.4325 - accuracy: 0.8786 - val_loss: 0.4502 - val_accuracy: 0.8995\n",
      "Epoch 31/100\n",
      "32/32 [==============================] - 1s 40ms/step - loss: 0.4270 - accuracy: 0.8823 - val_loss: 0.4776 - val_accuracy: 0.8584\n",
      "Epoch 32/100\n",
      "32/32 [==============================] - 1s 41ms/step - loss: 0.4439 - accuracy: 0.8756 - val_loss: 0.4462 - val_accuracy: 0.9041\n",
      "Epoch 33/100\n",
      "32/32 [==============================] - 1s 40ms/step - loss: 0.4138 - accuracy: 0.8907 - val_loss: 0.4611 - val_accuracy: 0.8904\n",
      "Epoch 34/100\n",
      "32/32 [==============================] - 1s 40ms/step - loss: 0.4368 - accuracy: 0.8887 - val_loss: 0.4505 - val_accuracy: 0.8904\n",
      "Epoch 35/100\n",
      "32/32 [==============================] - 1s 40ms/step - loss: 0.4452 - accuracy: 0.8770 - val_loss: 0.4474 - val_accuracy: 0.8950\n",
      "Epoch 36/100\n",
      "32/32 [==============================] - 1s 40ms/step - loss: 0.4024 - accuracy: 0.9017 - val_loss: 0.4475 - val_accuracy: 0.8995\n",
      "Epoch 37/100\n",
      "32/32 [==============================] - 1s 42ms/step - loss: 0.4471 - accuracy: 0.8733 - val_loss: 0.4437 - val_accuracy: 0.9041\n",
      "Epoch 38/100\n",
      "32/32 [==============================] - 1s 40ms/step - loss: 0.4116 - accuracy: 0.9029 - val_loss: 0.4457 - val_accuracy: 0.9087\n",
      "Epoch 39/100\n",
      "32/32 [==============================] - 1s 41ms/step - loss: 0.4283 - accuracy: 0.8962 - val_loss: 0.4506 - val_accuracy: 0.8950\n",
      "Epoch 40/100\n",
      "32/32 [==============================] - 1s 41ms/step - loss: 0.4309 - accuracy: 0.8854 - val_loss: 0.4497 - val_accuracy: 0.8995\n",
      "Epoch 41/100\n",
      "32/32 [==============================] - 1s 41ms/step - loss: 0.4264 - accuracy: 0.8950 - val_loss: 0.4476 - val_accuracy: 0.8995\n",
      "Epoch 42/100\n",
      "32/32 [==============================] - 1s 40ms/step - loss: 0.4393 - accuracy: 0.8701 - val_loss: 0.5092 - val_accuracy: 0.8493\n",
      "Epoch 43/100\n",
      "32/32 [==============================] - 1s 41ms/step - loss: 0.4199 - accuracy: 0.8901 - val_loss: 0.4522 - val_accuracy: 0.8950\n",
      "Epoch 44/100\n",
      "32/32 [==============================] - 1s 40ms/step - loss: 0.4273 - accuracy: 0.8783 - val_loss: 0.4776 - val_accuracy: 0.8630\n",
      "Epoch 45/100\n",
      "32/32 [==============================] - 1s 42ms/step - loss: 0.4577 - accuracy: 0.8617 - val_loss: 0.5034 - val_accuracy: 0.8539\n",
      "Epoch 46/100\n",
      "32/32 [==============================] - 1s 40ms/step - loss: 0.4448 - accuracy: 0.8712 - val_loss: 0.4721 - val_accuracy: 0.8721\n",
      "Epoch 47/100\n",
      "32/32 [==============================] - 1s 41ms/step - loss: 0.4509 - accuracy: 0.8792 - val_loss: 0.4649 - val_accuracy: 0.8721\n",
      "Epoch 48/100\n",
      "32/32 [==============================] - 1s 42ms/step - loss: 0.4416 - accuracy: 0.8662 - val_loss: 0.4684 - val_accuracy: 0.8630\n",
      "Epoch 49/100\n",
      "32/32 [==============================] - 1s 41ms/step - loss: 0.4178 - accuracy: 0.9007 - val_loss: 0.4440 - val_accuracy: 0.9041\n",
      "Epoch 50/100\n",
      "32/32 [==============================] - 1s 41ms/step - loss: 0.4250 - accuracy: 0.8851 - val_loss: 0.4448 - val_accuracy: 0.9041\n",
      "Epoch 51/100\n",
      "32/32 [==============================] - 1s 41ms/step - loss: 0.4267 - accuracy: 0.8842 - val_loss: 0.4498 - val_accuracy: 0.8904\n",
      "Epoch 52/100\n",
      "32/32 [==============================] - 1s 40ms/step - loss: 0.4120 - accuracy: 0.8878 - val_loss: 0.4500 - val_accuracy: 0.9041\n",
      "Epoch 53/100\n",
      "32/32 [==============================] - 1s 42ms/step - loss: 0.4453 - accuracy: 0.8865 - val_loss: 0.4491 - val_accuracy: 0.8995\n",
      "Epoch 54/100\n",
      "32/32 [==============================] - 1s 41ms/step - loss: 0.4181 - accuracy: 0.8911 - val_loss: 0.4584 - val_accuracy: 0.8858\n",
      "Epoch 55/100\n",
      "32/32 [==============================] - 1s 40ms/step - loss: 0.4129 - accuracy: 0.8820 - val_loss: 0.4722 - val_accuracy: 0.8584\n",
      "Epoch 56/100\n",
      "32/32 [==============================] - 1s 40ms/step - loss: 0.4178 - accuracy: 0.8870 - val_loss: 0.4533 - val_accuracy: 0.8995\n",
      "Epoch 57/100\n",
      "32/32 [==============================] - 1s 40ms/step - loss: 0.4317 - accuracy: 0.8827 - val_loss: 0.4716 - val_accuracy: 0.8630\n",
      "Epoch 58/100\n",
      "32/32 [==============================] - 1s 41ms/step - loss: 0.4053 - accuracy: 0.8926 - val_loss: 0.4455 - val_accuracy: 0.8995\n",
      "Epoch 59/100\n",
      "32/32 [==============================] - 1s 40ms/step - loss: 0.4287 - accuracy: 0.8769 - val_loss: 0.4468 - val_accuracy: 0.8995\n",
      "Epoch 60/100\n",
      "32/32 [==============================] - 1s 40ms/step - loss: 0.4357 - accuracy: 0.8742 - val_loss: 0.4613 - val_accuracy: 0.8858\n",
      "Epoch 61/100\n",
      "32/32 [==============================] - 1s 42ms/step - loss: 0.4387 - accuracy: 0.8694 - val_loss: 0.4463 - val_accuracy: 0.9087\n",
      "Epoch 62/100\n",
      "32/32 [==============================] - 1s 41ms/step - loss: 0.4094 - accuracy: 0.8934 - val_loss: 0.4457 - val_accuracy: 0.9087\n",
      "Epoch 63/100\n",
      "32/32 [==============================] - 1s 40ms/step - loss: 0.4237 - accuracy: 0.8773 - val_loss: 0.4981 - val_accuracy: 0.8493\n",
      "Epoch 64/100\n",
      "32/32 [==============================] - 1s 41ms/step - loss: 0.4346 - accuracy: 0.8861 - val_loss: 0.4815 - val_accuracy: 0.8584\n",
      "Epoch 65/100\n",
      "32/32 [==============================] - 1s 39ms/step - loss: 0.3833 - accuracy: 0.9113 - val_loss: 0.4501 - val_accuracy: 0.8995\n",
      "Epoch 66/100\n",
      "32/32 [==============================] - 1s 40ms/step - loss: 0.4262 - accuracy: 0.8811 - val_loss: 0.4585 - val_accuracy: 0.8767\n",
      "Epoch 67/100\n",
      "32/32 [==============================] - 1s 40ms/step - loss: 0.4130 - accuracy: 0.8978 - val_loss: 0.4578 - val_accuracy: 0.8858\n",
      "Epoch 68/100\n",
      "32/32 [==============================] - 1s 40ms/step - loss: 0.4027 - accuracy: 0.8815 - val_loss: 0.5133 - val_accuracy: 0.8493\n",
      "Epoch 69/100\n",
      "32/32 [==============================] - 1s 41ms/step - loss: 0.4323 - accuracy: 0.8875 - val_loss: 0.4799 - val_accuracy: 0.8630\n",
      "Epoch 70/100\n",
      "32/32 [==============================] - 1s 40ms/step - loss: 0.4441 - accuracy: 0.8695 - val_loss: 0.4812 - val_accuracy: 0.8630\n",
      "Epoch 71/100\n",
      "32/32 [==============================] - 1s 41ms/step - loss: 0.4483 - accuracy: 0.8616 - val_loss: 0.4915 - val_accuracy: 0.8584\n",
      "Epoch 72/100\n",
      "32/32 [==============================] - 1s 41ms/step - loss: 0.4291 - accuracy: 0.8874 - val_loss: 0.4476 - val_accuracy: 0.8995\n",
      "Epoch 73/100\n",
      "32/32 [==============================] - 1s 41ms/step - loss: 0.4029 - accuracy: 0.9046 - val_loss: 0.4482 - val_accuracy: 0.8995\n",
      "Epoch 74/100\n",
      "32/32 [==============================] - 1s 41ms/step - loss: 0.4245 - accuracy: 0.8930 - val_loss: 0.4508 - val_accuracy: 0.8904\n",
      "Epoch 75/100\n",
      "32/32 [==============================] - 1s 41ms/step - loss: 0.4147 - accuracy: 0.8742 - val_loss: 0.4449 - val_accuracy: 0.9041\n",
      "Epoch 76/100\n",
      "32/32 [==============================] - 1s 40ms/step - loss: 0.4079 - accuracy: 0.8816 - val_loss: 0.4493 - val_accuracy: 0.9041\n",
      "Epoch 77/100\n",
      "32/32 [==============================] - 1s 41ms/step - loss: 0.4179 - accuracy: 0.8912 - val_loss: 0.4465 - val_accuracy: 0.8995\n",
      "Epoch 78/100\n",
      "32/32 [==============================] - 1s 41ms/step - loss: 0.4188 - accuracy: 0.8870 - val_loss: 0.4528 - val_accuracy: 0.8995\n",
      "Epoch 79/100\n",
      "32/32 [==============================] - 1s 40ms/step - loss: 0.4119 - accuracy: 0.8961 - val_loss: 0.4439 - val_accuracy: 0.9041\n",
      "Epoch 80/100\n",
      "32/32 [==============================] - 1s 40ms/step - loss: 0.4131 - accuracy: 0.8823 - val_loss: 0.4501 - val_accuracy: 0.8995\n",
      "Epoch 81/100\n",
      "32/32 [==============================] - 1s 40ms/step - loss: 0.4284 - accuracy: 0.8788 - val_loss: 0.4500 - val_accuracy: 0.8995\n",
      "Epoch 82/100\n",
      "32/32 [==============================] - 1s 41ms/step - loss: 0.4395 - accuracy: 0.8692 - val_loss: 0.4475 - val_accuracy: 0.9041\n",
      "Epoch 83/100\n",
      "32/32 [==============================] - 1s 41ms/step - loss: 0.4074 - accuracy: 0.9009 - val_loss: 0.4482 - val_accuracy: 0.9041\n",
      "Epoch 84/100\n",
      "32/32 [==============================] - 1s 41ms/step - loss: 0.4232 - accuracy: 0.8753 - val_loss: 0.4816 - val_accuracy: 0.8721\n",
      "Epoch 85/100\n",
      "32/32 [==============================] - 1s 41ms/step - loss: 0.4131 - accuracy: 0.8940 - val_loss: 0.4487 - val_accuracy: 0.8950\n",
      "Epoch 86/100\n",
      "32/32 [==============================] - 1s 42ms/step - loss: 0.4081 - accuracy: 0.9073 - val_loss: 0.4520 - val_accuracy: 0.8904\n",
      "Epoch 87/100\n",
      "32/32 [==============================] - 1s 41ms/step - loss: 0.4354 - accuracy: 0.8727 - val_loss: 0.4755 - val_accuracy: 0.8676\n",
      "Epoch 88/100\n",
      "32/32 [==============================] - 1s 41ms/step - loss: 0.4160 - accuracy: 0.8972 - val_loss: 0.4493 - val_accuracy: 0.8950\n",
      "Epoch 89/100\n",
      "32/32 [==============================] - 1s 40ms/step - loss: 0.4328 - accuracy: 0.8742 - val_loss: 0.4734 - val_accuracy: 0.8630\n",
      "Epoch 90/100\n",
      "32/32 [==============================] - 1s 42ms/step - loss: 0.4129 - accuracy: 0.8735 - val_loss: 0.4515 - val_accuracy: 0.9041\n",
      "Epoch 91/100\n",
      "32/32 [==============================] - 1s 41ms/step - loss: 0.4140 - accuracy: 0.8959 - val_loss: 0.4517 - val_accuracy: 0.8950\n",
      "Epoch 92/100\n",
      "32/32 [==============================] - 1s 43ms/step - loss: 0.4176 - accuracy: 0.8844 - val_loss: 0.4456 - val_accuracy: 0.9087\n",
      "Epoch 93/100\n",
      "32/32 [==============================] - 1s 41ms/step - loss: 0.4171 - accuracy: 0.8872 - val_loss: 0.4599 - val_accuracy: 0.8858\n",
      "Epoch 94/100\n",
      "32/32 [==============================] - 1s 43ms/step - loss: 0.3945 - accuracy: 0.9097 - val_loss: 0.4556 - val_accuracy: 0.8995\n",
      "Epoch 95/100\n",
      "32/32 [==============================] - 1s 41ms/step - loss: 0.4562 - accuracy: 0.8790 - val_loss: 0.5049 - val_accuracy: 0.8493\n",
      "Epoch 96/100\n",
      "32/32 [==============================] - 1s 41ms/step - loss: 0.4894 - accuracy: 0.8613 - val_loss: 0.4563 - val_accuracy: 0.8950\n",
      "Epoch 97/100\n",
      "32/32 [==============================] - 1s 41ms/step - loss: 0.4333 - accuracy: 0.8834 - val_loss: 0.4485 - val_accuracy: 0.9087\n",
      "Epoch 98/100\n",
      "32/32 [==============================] - 1s 41ms/step - loss: 0.4399 - accuracy: 0.8884 - val_loss: 0.4828 - val_accuracy: 0.8584\n",
      "Epoch 99/100\n",
      "32/32 [==============================] - 1s 42ms/step - loss: 0.4264 - accuracy: 0.8907 - val_loss: 0.5312 - val_accuracy: 0.8493\n",
      "Epoch 100/100\n",
      "32/32 [==============================] - 1s 42ms/step - loss: 0.4245 - accuracy: 0.8810 - val_loss: 0.4431 - val_accuracy: 0.9041\n"
     ]
    }
   ],
   "source": [
    "model_3.compile(optimizer='adam',\n",
    "              loss='binary_crossentropy',\n",
    "              metrics=['accuracy'])\n",
    "hist_3 = model_3.fit(X_train, Y_train,\n",
    "          batch_size=32, epochs=100,\n",
    "          validation_data=(X_val, Y_val))"
   ]
  },
  {
   "cell_type": "code",
   "execution_count": 31,
   "metadata": {
    "colab": {
     "base_uri": "https://localhost:8080/",
     "height": 295
    },
    "id": "OpCmCb3Ba2KY",
    "outputId": "c199fd1c-8dfb-429c-cf8f-f58ba4cdd37d"
   },
   "outputs": [
    {
     "data": {
      "image/png": "[encoded data removed]",
      "text/plain": [
       "<Figure size 432x288 with 1 Axes>"
      ]
     },
     "metadata": {
      "needs_background": "light",
      "tags": []
     },
     "output_type": "display_data"
    }
   ],
   "source": [
    "plt.plot(hist_3.history['loss'])\n",
    "plt.plot(hist_3.history['val_loss'])\n",
    "plt.title('Model loss')\n",
    "plt.ylabel('Loss')\n",
    "plt.xlabel('Epoch')\n",
    "plt.legend(['Train', 'Val'], loc='upper right')\n",
    "plt.ylim(top=1.2, bottom=0)\n",
    "plt.show()"
   ]
  },
  {
   "cell_type": "code",
   "execution_count": 32,
   "metadata": {
    "colab": {
     "base_uri": "https://localhost:8080/",
     "height": 295
    },
    "id": "YBik86ema2KY",
    "outputId": "552dd60b-e8a7-4ae1-e762-414377c6b172"
   },
   "outputs": [
    {
     "data": {
      "image/png": "[encoded data removed]",
      "text/plain": [
       "<Figure size 432x288 with 1 Axes>"
      ]
     },
     "metadata": {
      "needs_background": "light",
      "tags": []
     },
     "output_type": "display_data"
    }
   ],
   "source": [
    "plt.plot(hist_3.history['accuracy'])\n",
    "plt.plot(hist_3.history['val_accuracy'])\n",
    "plt.title('Model accuracy')\n",
    "plt.ylabel('Accuracy')\n",
    "plt.xlabel('Epoch')\n",
    "plt.legend(['Train', 'Val'], loc='lower right')\n",
    "plt.show()"
   ]
  },
  {
   "cell_type": "markdown",
   "metadata": {
    "id": "vM4AhPLfAfFm"
   },
   "source": [
    "Apparently, there is no overfitting issue after adding dropout to the hidden layers, but the overall accuracy of model_3 is lower compared to our first moder with only 2 hidden layers. "
   ]
  },
  {
   "cell_type": "markdown",
   "metadata": {
    "id": "1Qhh6QZ1a2KY"
   },
   "source": [
    "# Home work "
   ]
  },
  {
   "cell_type": "markdown",
   "metadata": {
    "id": "2kMNDyIpa2KY"
   },
   "source": [
    "Can you change the structure of the model so that the accuracy on the validation reaches 93% or above. "
   ]
  },
  {
   "cell_type": "markdown",
   "metadata": {
    "id": "a8djZEFGa2KZ"
   },
   "source": [
    "reference. Joseph Lee Wei En, freecodecamp.org"
   ]
  },
  {
   "cell_type": "code",
   "execution_count": null,
   "metadata": {
    "id": "A4oivrs9tVq3"
   },
   "outputs": [],
   "source": [
    "model_hw = Sequential([\n",
    "                      # add code here   \n",
    "])"
   ]
  }
 ],
 "metadata": {
  "colab": {
   "collapsed_sections": [],
   "name": "NN_tutorial-2.ipynb",
   "provenance": []
  },
  "kernelspec": {
   "display_name": "Python 3 (ipykernel)",
   "language": "python",
   "name": "python3"
  },
  "language_info": {
   "codemirror_mode": {
    "name": "ipython",
    "version": 3
   },
   "file_extension": ".py",
   "mimetype": "text/x-python",
   "name": "python",
   "nbconvert_exporter": "python",
   "pygments_lexer": "ipython3",
   "version": "3.9.13"
  }
 },
 "nbformat": 4,
 "nbformat_minor": 1
}
